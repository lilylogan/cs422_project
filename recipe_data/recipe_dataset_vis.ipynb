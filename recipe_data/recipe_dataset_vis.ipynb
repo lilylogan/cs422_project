{
 "cells": [
  {
   "cell_type": "markdown",
   "metadata": {},
   "source": [
    "## Recipe Database!!"
   ]
  },
  {
   "cell_type": "code",
   "execution_count": 1,
   "metadata": {},
   "outputs": [],
   "source": [
    "import pandas as pd\n",
    "from sqlalchemy import create_engine\n",
    "import requests\n",
    "from bs4 import BeautifulSoup\n",
    "import os\n",
    "from PIL import Image\n",
    "from io import BytesIO\n",
    "import numpy as np"
   ]
  },
  {
   "cell_type": "markdown",
   "metadata": {},
   "source": [
    "### 1. Read the CSV"
   ]
  },
  {
   "cell_type": "code",
   "execution_count": 2,
   "metadata": {},
   "outputs": [],
   "source": [
    "df = pd.read_csv('recipes.csv')"
   ]
  },
  {
   "cell_type": "code",
   "execution_count": 3,
   "metadata": {},
   "outputs": [
    {
     "data": {
      "text/html": [
       "<div>\n",
       "<style scoped>\n",
       "    .dataframe tbody tr th:only-of-type {\n",
       "        vertical-align: middle;\n",
       "    }\n",
       "\n",
       "    .dataframe tbody tr th {\n",
       "        vertical-align: top;\n",
       "    }\n",
       "\n",
       "    .dataframe thead th {\n",
       "        text-align: right;\n",
       "    }\n",
       "</style>\n",
       "<table border=\"1\" class=\"dataframe\">\n",
       "  <thead>\n",
       "    <tr style=\"text-align: right;\">\n",
       "      <th></th>\n",
       "      <th>Unnamed: 0</th>\n",
       "      <th>recipe_name</th>\n",
       "      <th>prep_time</th>\n",
       "      <th>cook_time</th>\n",
       "      <th>total_time</th>\n",
       "      <th>servings</th>\n",
       "      <th>yield</th>\n",
       "      <th>ingredients</th>\n",
       "      <th>directions</th>\n",
       "      <th>rating</th>\n",
       "      <th>url</th>\n",
       "      <th>cuisine_path</th>\n",
       "      <th>nutrition</th>\n",
       "      <th>timing</th>\n",
       "      <th>img_src</th>\n",
       "    </tr>\n",
       "  </thead>\n",
       "  <tbody>\n",
       "    <tr>\n",
       "      <th>0</th>\n",
       "      <td>0</td>\n",
       "      <td>Apple-Cranberry Crostada</td>\n",
       "      <td>NaN</td>\n",
       "      <td>NaN</td>\n",
       "      <td>NaN</td>\n",
       "      <td>8</td>\n",
       "      <td>6 to 8 - servings</td>\n",
       "      <td>3 tablespoons butter, 2 pounds Granny Smith ap...</td>\n",
       "      <td>Heat butter in a large skillet over medium-hig...</td>\n",
       "      <td>4.4</td>\n",
       "      <td>https://www.allrecipes.com/recipe/76931/apple-...</td>\n",
       "      <td>/Desserts/Fruit Desserts/Apple Dessert Recipes/</td>\n",
       "      <td>Total Fat 18g 23%, Saturated Fat 7g 34%, Chole...</td>\n",
       "      <td>Servings: 8, Yield: 6 to 8 - servings</td>\n",
       "      <td>https://www.allrecipes.com/thmb/Tf1wH73bfH6Oql...</td>\n",
       "    </tr>\n",
       "    <tr>\n",
       "      <th>1</th>\n",
       "      <td>1</td>\n",
       "      <td>Apple Pie by Grandma Ople</td>\n",
       "      <td>30 mins</td>\n",
       "      <td>1 hrs</td>\n",
       "      <td>1 hrs 30 mins</td>\n",
       "      <td>8</td>\n",
       "      <td>1 9-inch pie</td>\n",
       "      <td>8 small Granny Smith apples, or as needed, ½ c...</td>\n",
       "      <td>Peel and core apples, then thinly slice. Set a...</td>\n",
       "      <td>4.8</td>\n",
       "      <td>https://www.allrecipes.com/recipe/12682/apple-...</td>\n",
       "      <td>/Desserts/Pies/Apple Pie Recipes/</td>\n",
       "      <td>Total Fat 19g 24%, Saturated Fat 9g 46%, Chole...</td>\n",
       "      <td>Prep Time: 30 mins, Cook Time: 1 hrs, Total Ti...</td>\n",
       "      <td>https://www.allrecipes.com/thmb/1I95oiTGz6aEpu...</td>\n",
       "    </tr>\n",
       "  </tbody>\n",
       "</table>\n",
       "</div>"
      ],
      "text/plain": [
       "   Unnamed: 0                recipe_name prep_time cook_time     total_time  \\\n",
       "0           0   Apple-Cranberry Crostada       NaN       NaN            NaN   \n",
       "1           1  Apple Pie by Grandma Ople   30 mins     1 hrs  1 hrs 30 mins   \n",
       "\n",
       "   servings              yield  \\\n",
       "0         8  6 to 8 - servings   \n",
       "1         8       1 9-inch pie   \n",
       "\n",
       "                                         ingredients  \\\n",
       "0  3 tablespoons butter, 2 pounds Granny Smith ap...   \n",
       "1  8 small Granny Smith apples, or as needed, ½ c...   \n",
       "\n",
       "                                          directions  rating  \\\n",
       "0  Heat butter in a large skillet over medium-hig...     4.4   \n",
       "1  Peel and core apples, then thinly slice. Set a...     4.8   \n",
       "\n",
       "                                                 url  \\\n",
       "0  https://www.allrecipes.com/recipe/76931/apple-...   \n",
       "1  https://www.allrecipes.com/recipe/12682/apple-...   \n",
       "\n",
       "                                      cuisine_path  \\\n",
       "0  /Desserts/Fruit Desserts/Apple Dessert Recipes/   \n",
       "1                /Desserts/Pies/Apple Pie Recipes/   \n",
       "\n",
       "                                           nutrition  \\\n",
       "0  Total Fat 18g 23%, Saturated Fat 7g 34%, Chole...   \n",
       "1  Total Fat 19g 24%, Saturated Fat 9g 46%, Chole...   \n",
       "\n",
       "                                              timing  \\\n",
       "0              Servings: 8, Yield: 6 to 8 - servings   \n",
       "1  Prep Time: 30 mins, Cook Time: 1 hrs, Total Ti...   \n",
       "\n",
       "                                             img_src  \n",
       "0  https://www.allrecipes.com/thmb/Tf1wH73bfH6Oql...  \n",
       "1  https://www.allrecipes.com/thmb/1I95oiTGz6aEpu...  "
      ]
     },
     "execution_count": 3,
     "metadata": {},
     "output_type": "execute_result"
    }
   ],
   "source": [
    "df.head(2)"
   ]
  },
  {
   "cell_type": "markdown",
   "metadata": {},
   "source": [
    "### 2. Investigate the data (any nans, missing values, unneeded attributes)"
   ]
  },
  {
   "cell_type": "code",
   "execution_count": 184,
   "metadata": {},
   "outputs": [
    {
     "name": "stdout",
     "output_type": "stream",
     "text": [
      "Number of rows with NaN values:\n",
      " 459\n",
      "\n",
      "Length of clean df without NaN values:\n",
      " 631\n"
     ]
    }
   ],
   "source": [
    "# number of rows with nans\n",
    "nan_rows = df[df.isna().any(axis=1)]\n",
    "print(\"Number of rows with NaN values:\\n\", len(nan_rows))\n",
    "\n",
    "# Filter out rows with NaN values\n",
    "df_clean = df.dropna()\n",
    "print(\"\\nLength of clean df without NaN values:\\n\", len(df_clean))\n"
   ]
  },
  {
   "cell_type": "markdown",
   "metadata": {},
   "source": [
    "### 3. add recipe_id attribute (recplaced the \"Unnanmed:0\")"
   ]
  },
  {
   "cell_type": "code",
   "execution_count": 185,
   "metadata": {},
   "outputs": [],
   "source": [
    "df_clean = df_clean.rename(columns={'Unnamed: 0': 'recipe_id'})"
   ]
  },
  {
   "cell_type": "code",
   "execution_count": 186,
   "metadata": {},
   "outputs": [],
   "source": [
    "def get_image_url(recipe_url):\n",
    "    try:\n",
    "        response = requests.get(recipe_url, timeout=10)  # Set a timeout for the request\n",
    "        if response.status_code == 200:\n",
    "            soup = BeautifulSoup(response.content, 'html.parser')\n",
    "            img_tags = soup.find_all('img', class_=['recipe-image', 'img-placeholder', 'figure-media', 'gallery-image', 'image-placeholder', 'ingredient-image'])\n",
    "\n",
    "            # img_tag = soup.find_all('img', class_='recipe-image')  # Adjust the selector based on AllRecipes structure\n",
    "            return img_tags[0]['src'] if img_tags else None\n",
    "        else:\n",
    "            print(f\"Failed to retrieve {recipe_url}: Status code {response.status_code}\")\n",
    "            return None\n",
    "    except requests.RequestException as e:\n",
    "        print(f\"Error fetching {recipe_url}: {e}\")\n",
    "        return None\n",
    "\n",
    "def download_image(image_url, save_path):\n",
    "    try:\n",
    "        response = requests.get(image_url, timeout=10)\n",
    "        img = Image.open(BytesIO(response.content))\n",
    "        img.save(save_path)\n",
    "    except requests.RequestException as e:\n",
    "        print(f\"Error downloading image {image_url}: {e}\")"
   ]
  },
  {
   "cell_type": "code",
   "execution_count": 187,
   "metadata": {},
   "outputs": [],
   "source": [
    "# Add a column to your DataFrame for image URLs\n",
    "df_clean['image_url'] = df_clean['url'].apply(get_image_url)"
   ]
  },
  {
   "cell_type": "code",
   "execution_count": 190,
   "metadata": {},
   "outputs": [
    {
     "name": "stdout",
     "output_type": "stream",
     "text": [
      "Number of rows with NaN values:\n",
      " 631\n",
      "\n",
      "Length of clean df without NaN values:\n",
      " 0\n"
     ]
    }
   ],
   "source": [
    "# number of rows with nans\n",
    "nan_rows = df_clean[df_clean.isna().any(axis=1)]\n",
    "print(\"Number of rows with NaN values:\\n\", len(nan_rows))\n",
    "\n",
    "# Filter out rows with NaN values\n",
    "final_df = df_clean.dropna()\n",
    "print(\"\\nLength of clean df without NaN values:\\n\", len(final_df))\n"
   ]
  },
  {
   "cell_type": "code",
   "execution_count": null,
   "metadata": {},
   "outputs": [],
   "source": [
    "# Download and save images\n",
    "for i, row in df_clean.iterrows():\n",
    "    if row['img_src']:\n",
    "        download_image(row['img_src'], f\"images/{row['recipe_id']}.jpg\")\n",
    "\n",
    "# Save the updated DataFrame\n",
    "# df.to_csv('your_dataset_with_images.csv', index=False)\n",
    "df_clean.to_csv(\"recipes_clean.csv\", index=False)\n",
    "\n",
    "print(\"Images downloaded and dataset updated.\")\n"
   ]
  },
  {
   "cell_type": "markdown",
   "metadata": {},
   "source": [
    "### 4. Make the text of ingredients into a list"
   ]
  },
  {
   "cell_type": "code",
   "execution_count": 4,
   "metadata": {},
   "outputs": [],
   "source": [
    "import re\n",
    "import pandas as pd\n",
    "\n",
    "def parse_ingredient(ingredient_text):\n",
    "    # Regex pattern to detect numbers and measurements\n",
    "    measurements = r'(\\d+\\s*\\d*/*\\d*|\\d*/*\\d+|\\d*[½⅓⅔¼¾]|[½⅓⅔¼¾])\\s*(small|large|cup|cups?|tablespoons?|tbsp|teaspoons?|tsp|pounds?|ounces?|inch|pinch|slices?|cloves?|quarts?|grams?|kg|ml|liters?)'\n",
    "    \n",
    "    # Split by commas and parse each ingredient part\n",
    "    ingredients = ingredient_text.split(',')  # Split on commas\n",
    "\n",
    "    \n",
    "    return ingredients\n"
   ]
  },
  {
   "cell_type": "code",
   "execution_count": 6,
   "metadata": {},
   "outputs": [],
   "source": [
    "recipe_df = pd.read_csv(\"recipes_clean.csv\")"
   ]
  },
  {
   "cell_type": "code",
   "execution_count": 7,
   "metadata": {},
   "outputs": [
    {
     "data": {
      "text/plain": [
       "\"2 tablespoons lemon juice, 4 cups water, 4  Granny Smith apples - peeled, cored and sliced, 2 tablespoons butter, 1 cup brown sugar, 1 teaspoon ground cinnamon, 1 tablespoon cornstarch, 1 tablespoon water, 1 (17.25 ounce) package frozen puff pastry sheets, thawed, 1 cup confectioners' sugar, 1 tablespoon milk, 1 teaspoon vanilla extract\""
      ]
     },
     "execution_count": 7,
     "metadata": {},
     "output_type": "execute_result"
    }
   ],
   "source": [
    "recipe_df[\"ingredients\"].iloc[4]"
   ]
  },
  {
   "cell_type": "code",
   "execution_count": 8,
   "metadata": {},
   "outputs": [],
   "source": [
    "recipe_df[\"cleaned_ingredients\"] = recipe_df[\"ingredients\"].apply(parse_ingredient)"
   ]
  },
  {
   "cell_type": "code",
   "execution_count": 17,
   "metadata": {},
   "outputs": [],
   "source": [
    "recipe_df = recipe_df.drop(columns={\"image_url\"})"
   ]
  },
  {
   "cell_type": "code",
   "execution_count": 18,
   "metadata": {},
   "outputs": [
    {
     "data": {
      "text/plain": [
       "Index(['recipe_id', 'recipe_name', 'prep_time', 'cook_time', 'total_time',\n",
       "       'servings', 'yield', 'ingredients', 'directions', 'rating', 'url',\n",
       "       'cuisine_path', 'nutrition', 'timing', 'img_src',\n",
       "       'cleaned_ingredients'],\n",
       "      dtype='object')"
      ]
     },
     "execution_count": 18,
     "metadata": {},
     "output_type": "execute_result"
    }
   ],
   "source": [
    "recipe_df.columns"
   ]
  },
  {
   "cell_type": "code",
   "execution_count": 25,
   "metadata": {},
   "outputs": [],
   "source": [
    "# Ensure the 'recipe_id' is of type string\n",
    "recipe_df['recipe_id'] = recipe_df['recipe_id'].astype(str)\n",
    "\n",
    "# Create the 'image_path' column using an f-string with the apply function\n",
    "recipe_df['image_path'] = recipe_df['recipe_id'].apply(lambda x: f\"./images/{x}.png\")\n"
   ]
  },
  {
   "cell_type": "code",
   "execution_count": 26,
   "metadata": {},
   "outputs": [
    {
     "data": {
      "text/plain": [
       "0         ./images/1.png\n",
       "1         ./images/3.png\n",
       "2         ./images/4.png\n",
       "3         ./images/7.png\n",
       "4        ./images/10.png\n",
       "             ...        \n",
       "626    ./images/1083.png\n",
       "627    ./images/1084.png\n",
       "628    ./images/1085.png\n",
       "629    ./images/1087.png\n",
       "630    ./images/1088.png\n",
       "Name: image_path, Length: 631, dtype: object"
      ]
     },
     "execution_count": 26,
     "metadata": {},
     "output_type": "execute_result"
    }
   ],
   "source": [
    "recipe_df[\"image_path\"]"
   ]
  },
  {
   "cell_type": "code",
   "execution_count": 188,
   "metadata": {},
   "outputs": [],
   "source": [
    "# import re\n",
    "# from fractions import Fraction\n",
    "\n",
    "# def parse_fraction(value):\n",
    "#     \"\"\"Convert a fraction string to a float.\"\"\"\n",
    "#     try:\n",
    "#         return float(sum(Fraction(s) for s in value.split()))\n",
    "#     except ValueError:\n",
    "#         return value\n",
    "\n",
    "# def parse_ingredient(ingredient_text):\n",
    "#     # Regex pattern to detect numbers, fractions, and units\n",
    "#     measurements = r'(\\d+\\s*\\d*/*\\d*|\\d*/*\\d+|\\d*[\\u00BC-\\u00BE\\u2150-\\u215E]?\\s*\\d*[\\u00BC-\\u00BE\\u2150-\\u215E]?|[0-9]+\\s*[½⅓⅔¼¾]|[½⅓⅔¼¾])\\s*(small|large|cup|cups|tablespoons?|tbsp|teaspoons?|tsp|pounds?|ounces?|inch|pinch|slices?|cloves?|quarts?|grams?|kg|ml|liters?)\\s*'\n",
    "    \n",
    "#     # Split by commas and parse each ingredient part\n",
    "#     ingredients = re.split(r',\\s*', ingredient_text)  # Split on commas, allowing for optional spaces\n",
    "#     ingredient_dict = {}\n",
    "    \n",
    "#     for item in ingredients:\n",
    "#         # Match the quantity and unit (if any)\n",
    "#         match = re.match(measurements, item)\n",
    "        \n",
    "#         if match:\n",
    "#             # Extract the quantity and unit\n",
    "#             quantity = match.group(1)\n",
    "#             unit = match.group(2)\n",
    "            \n",
    "#             # Extract the food item by removing the matched quantity and unit\n",
    "#             food_item = item.replace(match.group(0), '').strip()\n",
    "            \n",
    "#             # Convert fractions if necessary\n",
    "#             parsed_quantity = parse_fraction(quantity)\n",
    "            \n",
    "#             # Store in dictionary with both quantity and unit\n",
    "#             ingredient_dict[food_item] = f\"{parsed_quantity} {unit}\"\n",
    "#         else:\n",
    "#             # If no match, store the ingredient without quantity\n",
    "#             ingredient_dict[item.strip()] = None\n",
    "    \n",
    "#     return ingredient_dict\n",
    "\n",
    "# # # Example usage\n",
    "# # ingredient_text = '8 small Granny Smith apples, ½ cup unsalted butter, 3 tablespoons all-purpose flour, ½ cup white sugar, ½ cup packed brown sugar, ¼ cup water, 1 (9 inch) double-crust pie pastry, thawed'\n",
    "# # parsed_ingredients = parse_ingredient(ingredient_text)\n",
    "\n",
    "# # print(parsed_ingredients)\n"
   ]
  },
  {
   "cell_type": "code",
   "execution_count": 189,
   "metadata": {},
   "outputs": [],
   "source": [
    "# import re\n",
    "# import pandas as pd\n",
    "\n",
    "# def parse_ingredient(ingredient_text):\n",
    "#     # Regex pattern to detect numbers and measurements\n",
    "#     measurements = r'(\\d+\\s*\\d*/*\\d*|\\d*/*\\d+|\\d*[½⅓⅔¼¾]|[½⅓⅔¼¾])\\s*(small|large|cup|cups?|tablespoons?|tbsp|teaspoons?|tsp|pounds?|ounces?|inch|pinch|slices?|cloves?|quarts?|grams?|kg|ml|liters?)'\n",
    "    \n",
    "#     # Split by commas and parse each ingredient part\n",
    "#     ingredients = re.split(r',\\s*', ingredient_text)  # Split on commas, allowing for optional spaces\n",
    "#     ingredient_dict = {}\n",
    "    \n",
    "#     for item in ingredients:\n",
    "#         # Match the quantity and unit (if any)\n",
    "#         match = re.search(measurements, item)\n",
    "        \n",
    "#         if match:\n",
    "#             # Extract the quantity and unit\n",
    "#             quantity = match.group(1)\n",
    "#             unit = match.group(2)\n",
    "            \n",
    "#             # Extract the food item by removing the matched quantity and unit\n",
    "#             food_item = item.replace(match.group(0), '').strip()\n",
    "            \n",
    "#             # Store in dictionary with both quantity and unit\n",
    "#             ingredient_dict[food_item] = f\"{quantity} {unit}\"\n",
    "#         else:\n",
    "#             # If no match, store the ingredient without quantity\n",
    "#             ingredient_dict[item.strip()] = None\n",
    "    \n",
    "#     return ingredient_dict\n",
    "\n",
    "# # Example DataFrame\n",
    "# data = {\n",
    "#     \"ingredients\": [\n",
    "#         '4 ½ cups white sugar, 1 cup cornstarch, 2 teaspoons ground cinnamon, ¼ teaspoon ground nutmeg, 10 cups water, 2 teaspoons salt, 3 tablespoons lemon juice, 2 drops yellow food coloring, 6 pounds apples'\n",
    "#     ]\n",
    "# }\n",
    "\n",
    "# # df_clean = pd.DataFrame(data)\n",
    "\n",
    "# # # Apply the function to each row in the \"ingredients\" column\n",
    "# # df_clean[\"cleaned_ingredients\"] = df_clean[\"ingredients\"].apply(parse_ingredient)\n",
    "\n",
    "# # # Display the DataFrame\n",
    "# # print(df_clean[[\"ingredients\", \"cleaned_ingredients\"]])\n"
   ]
  },
  {
   "cell_type": "markdown",
   "metadata": {},
   "source": [
    "### 4. Create a DB using sqlalchemy"
   ]
  },
  {
   "cell_type": "code",
   "execution_count": null,
   "metadata": {},
   "outputs": [],
   "source": [
    "from sqlalchemy import create_engine, Column, Integer, String\n",
    "from sqlalchemy.ext.declarative import declarative_base\n",
    "from sqlalchemy.orm import sessionmaker\n",
    "\n",
    "# Create a base class for your models\n",
    "Base = declarative_base()\n",
    "\n",
    "# Define the Recipe class which represents the recipes table\n",
    "class Recipe(Base):\n",
    "    __tablename__ = 'recipes'\n",
    "    \n",
    "    recipe_id = Column(Integer, primary_key=True, autoincrement=True)\n",
    "    recipe_name = Column(String)\n",
    "    img_src = Column(String)\n",
    "    image_path = Column(String)\n",
    "    \n",
    "\n",
    "# Create a SQLite database and a connection\n",
    "engine = create_engine('sqlite:///recipes.db')\n",
    "\n",
    "# Create the recipes table (if it doesn't exist)\n",
    "Base.metadata.create_all(engine)\n"
   ]
  },
  {
   "cell_type": "code",
   "execution_count": null,
   "metadata": {},
   "outputs": [],
   "source": [
    "# Create a session to interact with the database\n",
    "Session = sessionmaker(bind=engine)\n",
    "session = Session()\n",
    "\n",
    "# Assuming your DataFrame (df) contains 'recipe_name', 'img_src', and 'recipe_id' columns\n",
    "for _, row in df.iterrows():\n",
    "    # Create a new Recipe object\n",
    "    recipe = Recipe(\n",
    "        recipe_name=row['recipe_name'],\n",
    "        img_src=row['img_src'],\n",
    "        image_path=f\"images/{row['recipe_id']}.jpg\"  # Assuming images are stored in the 'images/' folder\n",
    "    )\n",
    "    \n",
    "    # Add the recipe to the session\n",
    "    session.add(recipe)\n",
    "\n",
    "# Commit all changes to the database\n",
    "session.commit()\n",
    "\n",
    "# Close the session\n",
    "session.close()\n"
   ]
  },
  {
   "cell_type": "code",
   "execution_count": null,
   "metadata": {},
   "outputs": [],
   "source": [
    "# Create a new session for querying\n",
    "session = Session()\n",
    "\n",
    "# Query all recipes from the database\n",
    "recipes = session.query(Recipe).all()\n",
    "\n",
    "# Print the recipes and their image paths\n",
    "for recipe in recipes:\n",
    "    print(f\"Recipe: {recipe.recipe_name}, Image Path: {recipe.image_path}\")\n",
    "\n",
    "session.close()\n"
   ]
  },
  {
   "cell_type": "code",
   "execution_count": null,
   "metadata": {},
   "outputs": [],
   "source": [
    "import os\n",
    "\n",
    "# Directory to save images\n",
    "os.makedirs('images', exist_ok=True)\n",
    "\n",
    "# Assuming you have image URLs in your DataFrame and want to download them\n",
    "for i, row in df.iterrows():\n",
    "    image_url = row['img_src']\n",
    "    image_path = f\"images/{row['recipe_id']}.jpg\"\n",
    "    \n",
    "    try:\n",
    "        # Download and save the image\n",
    "        response = requests.get(image_url, timeout=10)\n",
    "        img = Image.open(BytesIO(response.content))\n",
    "        img.save(image_path)\n",
    "    except Exception as e:\n",
    "        print(f\"Error downloading image for recipe {row['recipe_name']}: {e}\")\n"
   ]
  },
  {
   "cell_type": "code",
   "execution_count": null,
   "metadata": {},
   "outputs": [],
   "source": [
    "from sqlalchemy import LargeBinary\n",
    "\n",
    "class Recipe(Base):\n",
    "    __tablename__ = 'recipes'\n",
    "    \n",
    "    recipe_id = Column(Integer, primary_key=True, autoincrement=True)\n",
    "    recipe_name = Column(String)\n",
    "    img_src = Column(String)\n",
    "    image_data = Column(LargeBinary)  # Store image data as BLOB\n"
   ]
  },
  {
   "cell_type": "code",
   "execution_count": 29,
   "metadata": {},
   "outputs": [
    {
     "ename": "InterfaceError",
     "evalue": "(sqlite3.InterfaceError) Error binding parameter 15 - probably unsupported type.\n[SQL: INSERT INTO recipe_database (recipe_id, recipe_name, prep_time, cook_time, total_time, servings, yield, ingredients, directions, rating, url, cuisine_path, nutrition, timing, img_src, cleaned_ingredients, image_path) VALUES (?, ?, ?, ?, ?, ?, ?, ?, ?, ?, ?, ?, ?, ?, ?, ?, ?)]\n[parameters: [('1', 'Apple Pie by Grandma Ople', '30 mins', '1 hrs', '1 hrs 30 mins', 8, '1 9-inch pie', '8 small Granny Smith apples, or as needed, ½ cup unsalted butter, 3 tablespoons all-purpose flour, ½ cup white sugar, ½ cup packed brown sugar, ¼ cup water, 1 (9 inch) double-crust pie pastry, thawed', \"Peel and core apples, then thinly slice. Set aside.\\nPreheat the oven to 425 degrees F (220 degrees C).\\nMelt butter in a saucepan over medium heat.  ... (1389 characters truncated) ... duce the temperature to 350 degrees F (175 degrees C) and continue baking until apples are soft, 35 to 45 minutes.\\n\\n\\n\\n\\n\\n\\n\\n\\n\\n\\n\\nNatalie T\\n\", 4.8, 'https://www.allrecipes.com/recipe/12682/apple-pie-by-grandma-ople/', '/Desserts/Pies/Apple Pie Recipes/', 'Total Fat 19g 24%, Saturated Fat 9g 46%, Cholesterol 31mg 10%, Sodium 124mg 5%, Total Carbohydrate 52g 19%, Dietary Fiber 3g 10%, Protein 2g, Vitamin C 5mg 27%, Calcium 23mg 2%, Iron 1mg 6%, Potassium 156mg 3%', 'Prep Time: 30 mins, Cook Time: 1 hrs, Total Time: 1 hrs 30 mins, Servings: 8, Yield: 1 9-inch pie', 'https://www.allrecipes.com/thmb/1I95oiTGz6aEpuHd2DAr33w7Mgg=/1500x0/filters:no_upscale():max_bytes(150000):strip_icc()/12682-apple-pie-by-grandma-ople-natasha-titanov-1x1-1-7f1cd9f631d24ff0b90cac0163247686.jpg', ['8 small Granny Smith apples', ' or as needed', ' ½ cup unsalted butter', ' 3 tablespoons all-purpose flour', ' ½ cup white sugar', ' ½ cup packed brown sugar', ' ¼ cup water', ' 1 (9 inch) double-crust pie pastry', ' thawed'], './images/1.png'), ('3', 'Apple Crisp', '30 mins', '45 mins', '1 hrs 15 mins', 12, '1 9x13-inch pan', '10 cups all-purpose apples, peeled, cored and sliced, 1 cup white sugar, 1 tablespoon all-purpose flour, 1 teaspoon ground cinnamon, ½ cup water, 1 cup quick-cooking oats, 1 cup all-purpose flour, 1 cup packed brown sugar, ¼ teaspoon baking powder, ¼ teaspoon baking soda, ½ cup butter, melted', 'Preheat the oven to 350 degrees F (175 degrees C).\\nPlace sliced apples in a 9x13-inch baking dish. Mix white sugar, 1 tablespoon flour, and cinnamon ... (261 characters truncated) ... ted oven until top is golden brown and apples are bubbling around the edges, about 45 minutes.\\n\\n\\n\\n\\n\\n\\n\\n\\n\\n\\n\\nDotdash Meredith Food Studios\\n', 4.7, 'https://www.allrecipes.com/recipe/12409/apple-crisp-ii/', '/Desserts/Crisps and Crumbles Recipes/Apple Crisps and Crumbles Recipes/', 'Total Fat 8g 11%, Saturated Fat 5g 25%, Cholesterol 20mg 7%, Sodium 98mg 4%, Total Carbohydrate 61g 22%, Dietary Fiber 3g 12%, Total Sugars 44g, Protein 2g, Vitamin C 4mg 21%, Calcium 36mg 3%, Iron 1mg 6%, Potassium 162mg 3%', 'Prep Time: 30 mins, Cook Time: 45 mins, Total Time: 1 hrs 15 mins, Servings: 12, Yield: 1 9x13-inch pan', 'https://www.allrecipes.com/thmb/uAzhPOh86PfR-NIT1_dQ5c9bhag=/1500x0/filters:no_upscale():max_bytes(150000):strip_icc()/12409-apple-crisp-MFS-027-c2f142105db44206856af57c388db3ee.jpg', ['10 cups all-purpose apples', ' peeled', ' cored and sliced', ' 1 cup white sugar', ' 1 tablespoon all-purpose flour', ' 1 teaspoon ground cinnamon', ... (36 characters truncated) ... ng oats', ' 1 cup all-purpose flour', ' 1 cup packed brown sugar', ' ¼ teaspoon baking powder', ' ¼ teaspoon baking soda', ' ½ cup butter', ' melted'], './images/3.png'), ('4', 'Apple Pie Filling', '20 mins', '20 mins', '2 hrs 40 mins', 40, '5 9-inch pies', '18 cups thinly sliced apples, 3 tablespoons lemon juice, 10 cups water, 4 ½ cups white sugar, 1 cup cornstarch, 2 teaspoons ground cinnamon, 1 teaspoon salt, ¼ teaspoon ground nutmeg', 'Toss apples with lemon juice in a large bowl and set aside.\\nPour water into a Dutch oven over medium heat. Combine sugar, cornstarch, cinnamon, salt ... (314 characters truncated) ... m temperature no longer than 1 1/2 hours.\\nSeal and freeze. Can be stored for up to 12 months.\\n\\n\\n\\n\\n\\n\\n\\n\\n\\n\\n\\nDotdash Meredith Food Studios\\n', 4.7, 'https://www.allrecipes.com/recipe/12681/apple-pie-filling/', '/Desserts/Pies/Apple Pie Recipes/', 'Total Fat 0g 0%, Sodium 61mg 3%, Total Carbohydrate 33g 12%, Dietary Fiber 1g 5%, Total Sugars 28g, Protein 0g, Vitamin C 3mg 16%, Calcium 7mg 1%, Iron 0mg 1%, Potassium 63mg 1%', 'Prep Time: 20 mins, Cook Time: 20 mins, Additional Time: 2 hrs, Total Time: 2 hrs 40 mins, Servings: 40, Yield: 5 9-inch pies', 'https://www.allrecipes.com/thmb/c0bbYaS1V_mTt_fb85yo0gPcYUM=/1500x0/filters:no_upscale():max_bytes(150000):strip_icc()/12681-apple-pie-filling-beauty-1x1-BP-2876-ed43a184f9564f4a8dc893c4ae8d561f.jpg', ['18 cups thinly sliced apples', ' 3 tablespoons lemon juice', ' 10 cups water', ' 4 ½ cups white sugar', ' 1 cup cornstarch', ' 2 teaspoons ground cinnamon', ' 1 teaspoon salt', ' ¼ teaspoon ground nutmeg'], './images/4.png'), ('7', 'Apple-Cranberry Crisp', '25 mins', '40 mins', '1 hrs 5 mins', 8, '1 8-inch crisp', '2 pounds Granny Smith apples - peeled, cored and thinly sliced, ¾ cup cranberries, ¼ cup white sugar, 1 tablespoon ground cinnamon, 1 teaspoon ground nutmeg', 'Preheat the oven to 375 degrees F (190 degrees C.) Butter an 8-inch square baking dish.\\nMix apples, cranberries, white sugar, cinnamon, and nutmeg i ... (204 characters truncated) ... . Sprinkle topping over apples in the baking dish.\\nBake in the preheated oven until apples are tender and topping is golden brown, 40 to 50 minutes.', 4.6, 'https://www.allrecipes.com/recipe/41893/apple-cranberry-crisp/', '/Desserts/Crisps and Crumbles Recipes/', 'Total Fat 12g 15%, Saturated Fat 4g 22%, Cholesterol 15mg 5%, Sodium 47mg 2%, Total Carbohydrate 43g 16%, Dietary Fiber 4g 16%, Total Sugars 32g, Protein 2g, Vitamin C 7mg 36%, Calcium 37mg 3%, Iron 1mg 6%, Potassium 207mg 4%', 'Prep Time: 25 mins, Cook Time: 40 mins, Total Time: 1 hrs 5 mins, Servings: 8, Yield: 1 8-inch crisp', 'https://www.allrecipes.com/thmb/MjDDFmBWiEx9f1kpSieyThF1KnM=/1500x0/filters:no_upscale():max_bytes(150000):strip_icc()/525977-d5f45adf863d41fba1a1071febfc00ad.jpg', ['2 pounds Granny Smith apples - peeled', ' cored and thinly sliced', ' ¾ cup cranberries', ' ¼ cup white sugar', ' 1 tablespoon ground cinnamon', ' 1 teaspoon ground nutmeg'], './images/7.png'), ('10', 'Apple Turnovers', '30 mins', '25 mins', '55 mins', 8, '8 turnovers', \"2 tablespoons lemon juice, 4 cups water, 4  Granny Smith apples - peeled, cored and sliced, 2 tablespoons butter, 1 cup brown sugar, 1 teaspoon groun ... (40 characters truncated) ... ablespoon water, 1 (17.25 ounce) package frozen puff pastry sheets, thawed, 1 cup confectioners' sugar, 1 tablespoon milk, 1 teaspoon vanilla extract\", \"Combine the lemon and 4 cups water in a large bowl. Place the sliced apples in the water to keep them from browning.\\nMelt butter in a large skillet  ... (1011 characters truncated) ...  thickness by adding more sugar or milk if necessary. Drizzle glaze over the cooled turnovers.\\n\\n\\n\\n\\n\\n\\n\\n\\n\\n\\n\\nDotdash Meredith Food Studios\\n\", 4.6, 'https://www.allrecipes.com/recipe/59124/apple-turnovers/', '/Desserts/Fruit Desserts/Apple Dessert Recipes/', 'Total Fat 26g 33%, Saturated Fat 8g 39%, Cholesterol 8mg 3%, Sodium 184mg 8%, Total Carbohydrate 80g 29%, Dietary Fiber 2g 9%, Total Sugars 50g, Protein 5g, Vitamin C 5mg 26%, Calcium 42mg 3%, Iron 2mg 11%, Potassium 161mg 3%', 'Prep Time: 30 mins, Cook Time: 25 mins, Total Time: 55 mins, Servings: 8, Yield: 8 turnovers', 'https://www.allrecipes.com/thmb/6EpK8eOrDHd4MMlY4u4aXTOPtHA=/1500x0/filters:no_upscale():max_bytes(150000):strip_icc()/59124-AppleTurnovers-mfs-2X3-1645-dea040eab9a84c7483c411988b92d134.jpg', ['2 tablespoons lemon juice', ' 4 cups water', ' 4  Granny Smith apples - peeled', ' cored and sliced', ' 2 tablespoons butter', ' 1 cup brown sugar', ... (81 characters truncated) ... , ' 1 (17.25 ounce) package frozen puff pastry sheets', ' thawed', \" 1 cup confectioners' sugar\", ' 1 tablespoon milk', ' 1 teaspoon vanilla extract'], './images/10.png'), ('11', 'Apple Crisp - Perfect and Easy', '20 mins', '40 mins', '1 hrs', 6, '1 8-inch square dish', '2 ½ cups apples - peeled, cored, and sliced, 1 cup sifted all-purpose flour, 1 cup white sugar, ½ teaspoon ground cinnamon, ¼ teaspoon salt, ½ cup butter, softened', 'Preheat the oven to 375 degrees F (190 degrees C). Lightly grease an 8-inch square baking dish.\\nArrange apple slices evenly in the prepared baking d ... (158 characters truncated) ... ver apples.\\nBake in the preheated oven until topping is golden, 40 to 45 minutes. Cool slightly before serving.\\n\\n\\n\\n\\n\\n\\n\\n\\n\\n\\n\\nnaples34102\\n', 4.7, 'https://www.allrecipes.com/recipe/229274/apple-crisp-perfect-and-easy/', '/Desserts/Crisps and Crumbles Recipes/Apple Crisps and Crumbles Recipes/', 'Total Fat 16g 20%, Saturated Fat 10g 49%, Cholesterol 41mg 14%, Sodium 207mg 9%, Total Carbohydrate 56g 20%, Dietary Fiber 2g 6%, Total Sugars 38g, Protein 2g, Vitamin C 2mg 11%, Calcium 13mg 1%, Iron 1mg 6%, Potassium 77mg 2%', 'Prep Time: 20 mins, Cook Time: 40 mins, Total Time: 1 hrs, Servings: 6, Yield: 1 8-inch square dish', 'https://www.allrecipes.com/thmb/hPRM3eLo_H-Z2kSeRRizL0El3ao=/1500x0/filters:no_upscale():max_bytes(150000):strip_icc()/1046883-apple-crisp-perfect-and-easy-naples34102-e505af44f7d9409ba48fc00e15efa036.jpeg', ['2 ½ cups apples - peeled', ' cored', ' and sliced', ' 1 cup sifted all-purpose flour', ' 1 cup white sugar', ' ½ teaspoon ground cinnamon', ' ¼ teaspoon salt', ' ½ cup butter', ' softened'], './images/11.png'), ('14', 'Sauteed Apples', '5 mins', '15 mins', '20 mins', 8, '4 cups', '¼ cup butter, 4 large tart apples - peeled, cored and sliced 1/4 inch thick, ½ cup cold water, 2 teaspoons cornstarch, ½ cup brown sugar, ½ teaspoon ground cinnamon', 'Melt butter in a large skillet or saucepan over medium heat; add apples and cook, stirring constantly, until almost tender, 6 to 7 minutes.\\nMix wate ... (117 characters truncated) ... nnamon. Bring to a boil for 2 minutes, stirring occasionally. Remove from heat and serve warm.\\n\\n\\n\\n\\n\\n\\n\\n\\n\\n\\n\\ndotdash meredith food studios\\n', 4.8, 'https://www.allrecipes.com/recipe/21672/sauteed-apples/', '/Side Dish/', 'Total Fat 6g 8%, Saturated Fat 4g 19%, Cholesterol 15mg 5%, Sodium 45mg 2%, Total Carbohydrate 24g 9%, Dietary Fiber 3g 9%, Total Sugars 20g, Protein 0g, Vitamin C 5mg 25%, Calcium 18mg 1%, Iron 0mg 1%, Potassium 128mg 3%', 'Prep Time: 5 mins, Cook Time: 15 mins, Total Time: 20 mins, Servings: 8, Yield: 4 cups', 'https://www.allrecipes.com/thmb/pTjoToZum_x5Ki9khNk_SSe7MEs=/1500x0/filters:no_upscale():max_bytes(150000):strip_icc()/21672-SauteedApples-ddmfs-1X1-0061-fe2952cf8a6148959bd0076742996deb.jpg', ['¼ cup butter', ' 4 large tart apples - peeled', ' cored and sliced 1/4 inch thick', ' ½ cup cold water', ' 2 teaspoons cornstarch', ' ½ cup brown sugar', ' ½ teaspoon ground cinnamon'], './images/14.png'), ('15', 'Homemade Apple Cider', '15 mins', '3 hrs', '7 hrs 15 mins', 16, '1 gallon', '10 large apples, quartered,   water, to cover, ¾ cup white sugar, 1 tablespoon ground cinnamon, 1 tablespoon ground allspice', 'Place apples in a large stockpot; cover with water by at least 2 inches. Stir in sugar, cinnamon, and allspice. Bring to a boil over medium-high heat ... (132 characters truncated) ... olids. Drain cider again through a cheesecloth-lined sieve.\\nRefrigerate cider until cold, about 4 hours.\\n\\n\\n\\n\\n\\n\\n\\n\\n\\n\\n\\n LaDonna Langwell \\n', 4.4, 'https://www.allrecipes.com/recipe/211772/homemade-apple-cider/', '/Drinks Recipes/Juice Recipes/', 'Total Fat 0g 0%, Sodium 1mg 0%, Total Carbohydrate 22g 8%, Dietary Fiber 2g 9%, Total Sugars 18g, Protein 0g, Vitamin C 4mg 21%, Calcium 12mg 1%, Iron 0mg 1%, Potassium 98mg 2%', 'Prep Time: 15 mins, Cook Time: 3 hrs, Additional Time: 4 hrs, Total Time: 7 hrs 15 mins, Servings: 16, Yield: 1 gallon', 'https://www.allrecipes.com/thmb/M0dm6zV9huJMIy70_9np9ztM4Sw=/1500x0/filters:no_upscale():max_bytes(150000):strip_icc()/Homemade-Apple-Cider-LaDonna-Langwell-1x1-1-a6afe5b44bd246d39e597ed59281bbd5.jpg', ['10 large apples', ' quartered', '   water', ' to cover', ' ¾ cup white sugar', ' 1 tablespoon ground cinnamon', ' 1 tablespoon ground allspice'], './images/15.png')  ... displaying 10 of 631 total bound parameter sets ...  ('1087', 'Best Hot Sauce', '10 mins', '20 mins', '30 mins', 100, '2 cups', '10  fresh hot chile peppers, stems removed, 1  onion, coarsely chopped, ¼ cup pitted fresh dates, or more to taste, ¼ cup fresh basil leaves, ¼ cup f ... (39 characters truncated) ... ato, roughly chopped, 2 tablespoons beef bouillon powder, 4  garlic cloves, ½ cup vegetable oil, or as needed,   salt to taste, 1 squeeze lemon juice', 'Place peppers, onion, dates, basil, parsley, tomato, bouillon powder, and garlic in the bowl of a food processor; pour in the oil. Pulse mixture unti ... (175 characters truncated) ... duce heat to low, and simmer for 15 minutes.\\nAllow pepper mixture to cool; pour into a glass jar with a lid. Store pepper sauce in the refrigerator.', 4.9, 'https://www.allrecipes.com/recipe/242153/best-hot-sauce/', '/Side Dish/Sauces and Condiments/', 'Total Fat 1g 1%, Saturated Fat 0g 1%, Sodium 29mg 1%, Total Carbohydrate 1g 0%, Dietary Fiber 0g 0%, Total Sugars 0g, Protein 0g, Vitamin C 11mg 57%, Calcium 2mg 0%, Iron 0mg 1%, Potassium 21mg 0%', 'Prep Time: 10 mins, Cook Time: 20 mins, Total Time: 30 mins, Servings: 100, Yield: 2 cups', 'https://www.allrecipes.com/thmb/80wUYzFvbycfxxDSPtq83Vo3r1k=/1500x0/filters:no_upscale():max_bytes(150000):strip_icc()/2513802-5c855a29fc3e4e14a9cf88a3e72fe63f.jpg', ['10  fresh hot chile peppers', ' stems removed', ' 1  onion', ' coarsely chopped', ' ¼ cup pitted fresh dates', ' or more to taste', ' ¼ cup fresh ba ... (86 characters truncated) ... d', ' 2 tablespoons beef bouillon powder', ' 4  garlic cloves', ' ½ cup vegetable oil', ' or as needed', '   salt to taste', ' 1 squeeze lemon juice'], './images/1087.png'), ('1088', 'Moist Date Nut Bread', '15 mins', '50 mins', '1 hrs 35 mins', 12, '1 9x5-inch loaf', '2 ½ cups chopped dates, ¼ cup butter, 1 cup boiling water, ½ cup packed brown sugar, 1 large egg, 1 ½ cups all-purpose flour, 1 teaspoon baking soda, 1 teaspoon baking powder, 1 teaspoon salt, 1 cup chopped walnuts', 'Preheat the oven to 350 degrees F (175 degrees F). Grease and flour a 9x5-inch loaf pan.\\nIn a medium bowl, combine dates and butter. Pour boiling wa ... (269 characters truncated) ... lnuts. Pour batter into the prepared pan.\\nBake in the preheated oven until a wooden pick inserted into the center comes out clean, about 50 minutes.', 4.5, 'https://www.allrecipes.com/recipe/51446/moist-date-nut-bread/', '/Breakfast and Brunch/Breakfast Bread Recipes/', 'Total Fat 10g 13%, Saturated Fat 3g 16%, Cholesterol 26mg 9%, Sodium 365mg 16%, Total Carbohydrate 47g 17%, Dietary Fiber 4g 14%, Total Sugars 30g, Protein 4g, Vitamin C 0mg 2%, Calcium 51mg 4%, Iron 2mg 8%, Potassium 312mg 7%', 'Prep Time: 15 mins, Cook Time: 50 mins, Additional Time: 30 mins, Total Time: 1 hrs 35 mins, Servings: 12, Yield: 1 9x5-inch loaf', 'https://www.allrecipes.com/thmb/bYsnompJZ6UAF9SXLA1ETj8_3SE=/1500x0/filters:no_upscale():max_bytes(150000):strip_icc()/1071229-5525faab6a924ac7a60743fcf8779b58.jpg', ['2 ½ cups chopped dates', ' ¼ cup butter', ' 1 cup boiling water', ' ½ cup packed brown sugar', ' 1 large egg', ' 1 ½ cups all-purpose flour', ' 1 teaspoon baking soda', ' 1 teaspoon baking powder', ' 1 teaspoon salt', ' 1 cup chopped walnuts'], './images/1088.png')]]\n(Background on this error at: https://sqlalche.me/e/20/rvf5)",
     "output_type": "error",
     "traceback": [
      "\u001b[1;31m---------------------------------------------------------------------------\u001b[0m",
      "\u001b[1;31mInterfaceError\u001b[0m                            Traceback (most recent call last)",
      "File \u001b[1;32mc:\\Users\\Lily Logan\\AppData\\Local\\Programs\\Python\\Python310\\lib\\site-packages\\sqlalchemy\\engine\\base.py:1934\u001b[0m, in \u001b[0;36mConnection._exec_single_context\u001b[1;34m(self, dialect, context, statement, parameters)\u001b[0m\n\u001b[0;32m   1933\u001b[0m     \u001b[38;5;28;01mif\u001b[39;00m \u001b[38;5;129;01mnot\u001b[39;00m evt_handled:\n\u001b[1;32m-> 1934\u001b[0m         \u001b[38;5;28;43mself\u001b[39;49m\u001b[38;5;241;43m.\u001b[39;49m\u001b[43mdialect\u001b[49m\u001b[38;5;241;43m.\u001b[39;49m\u001b[43mdo_executemany\u001b[49m\u001b[43m(\u001b[49m\n\u001b[0;32m   1935\u001b[0m \u001b[43m            \u001b[49m\u001b[43mcursor\u001b[49m\u001b[43m,\u001b[49m\n\u001b[0;32m   1936\u001b[0m \u001b[43m            \u001b[49m\u001b[43mstr_statement\u001b[49m\u001b[43m,\u001b[49m\n\u001b[0;32m   1937\u001b[0m \u001b[43m            \u001b[49m\u001b[43meffective_parameters\u001b[49m\u001b[43m,\u001b[49m\n\u001b[0;32m   1938\u001b[0m \u001b[43m            \u001b[49m\u001b[43mcontext\u001b[49m\u001b[43m,\u001b[49m\n\u001b[0;32m   1939\u001b[0m \u001b[43m        \u001b[49m\u001b[43m)\u001b[49m\n\u001b[0;32m   1940\u001b[0m \u001b[38;5;28;01melif\u001b[39;00m \u001b[38;5;129;01mnot\u001b[39;00m effective_parameters \u001b[38;5;129;01mand\u001b[39;00m context\u001b[38;5;241m.\u001b[39mno_parameters:\n",
      "File \u001b[1;32mc:\\Users\\Lily Logan\\AppData\\Local\\Programs\\Python\\Python310\\lib\\site-packages\\sqlalchemy\\engine\\default.py:918\u001b[0m, in \u001b[0;36mDefaultDialect.do_executemany\u001b[1;34m(self, cursor, statement, parameters, context)\u001b[0m\n\u001b[0;32m    917\u001b[0m \u001b[38;5;28;01mdef\u001b[39;00m \u001b[38;5;21mdo_executemany\u001b[39m(\u001b[38;5;28mself\u001b[39m, cursor, statement, parameters, context\u001b[38;5;241m=\u001b[39m\u001b[38;5;28;01mNone\u001b[39;00m):\n\u001b[1;32m--> 918\u001b[0m     \u001b[43mcursor\u001b[49m\u001b[38;5;241;43m.\u001b[39;49m\u001b[43mexecutemany\u001b[49m\u001b[43m(\u001b[49m\u001b[43mstatement\u001b[49m\u001b[43m,\u001b[49m\u001b[43m \u001b[49m\u001b[43mparameters\u001b[49m\u001b[43m)\u001b[49m\n",
      "\u001b[1;31mInterfaceError\u001b[0m: Error binding parameter 15 - probably unsupported type.",
      "\nThe above exception was the direct cause of the following exception:\n",
      "\u001b[1;31mInterfaceError\u001b[0m                            Traceback (most recent call last)",
      "Cell \u001b[1;32mIn[29], line 7\u001b[0m\n\u001b[0;32m      4\u001b[0m engine \u001b[38;5;241m=\u001b[39m create_engine(\u001b[38;5;124m'\u001b[39m\u001b[38;5;124msqlite:///recipe_database.db\u001b[39m\u001b[38;5;124m'\u001b[39m)\n\u001b[0;32m      6\u001b[0m \u001b[38;5;66;03m# Save the DataFrame to a SQL table named \"recipes\"\u001b[39;00m\n\u001b[1;32m----> 7\u001b[0m \u001b[43mrecipe_df\u001b[49m\u001b[38;5;241;43m.\u001b[39;49m\u001b[43mto_sql\u001b[49m\u001b[43m(\u001b[49m\u001b[38;5;124;43m'\u001b[39;49m\u001b[38;5;124;43mrecipe_database\u001b[39;49m\u001b[38;5;124;43m'\u001b[39;49m\u001b[43m,\u001b[49m\u001b[43m \u001b[49m\u001b[43mcon\u001b[49m\u001b[38;5;241;43m=\u001b[39;49m\u001b[43mengine\u001b[49m\u001b[43m,\u001b[49m\u001b[43m \u001b[49m\u001b[43mif_exists\u001b[49m\u001b[38;5;241;43m=\u001b[39;49m\u001b[38;5;124;43m'\u001b[39;49m\u001b[38;5;124;43mreplace\u001b[39;49m\u001b[38;5;124;43m'\u001b[39;49m\u001b[43m,\u001b[49m\u001b[43m \u001b[49m\u001b[43mindex\u001b[49m\u001b[38;5;241;43m=\u001b[39;49m\u001b[38;5;28;43;01mFalse\u001b[39;49;00m\u001b[43m)\u001b[49m\n",
      "File \u001b[1;32mc:\\Users\\Lily Logan\\AppData\\Local\\Programs\\Python\\Python310\\lib\\site-packages\\pandas\\core\\generic.py:2987\u001b[0m, in \u001b[0;36mNDFrame.to_sql\u001b[1;34m(self, name, con, schema, if_exists, index, index_label, chunksize, dtype, method)\u001b[0m\n\u001b[0;32m   2830\u001b[0m \u001b[38;5;250m\u001b[39m\u001b[38;5;124;03m\"\"\"\u001b[39;00m\n\u001b[0;32m   2831\u001b[0m \u001b[38;5;124;03mWrite records stored in a DataFrame to a SQL database.\u001b[39;00m\n\u001b[0;32m   2832\u001b[0m \n\u001b[1;32m   (...)\u001b[0m\n\u001b[0;32m   2983\u001b[0m \u001b[38;5;124;03m[(1,), (None,), (2,)]\u001b[39;00m\n\u001b[0;32m   2984\u001b[0m \u001b[38;5;124;03m\"\"\"\u001b[39;00m  \u001b[38;5;66;03m# noqa:E501\u001b[39;00m\n\u001b[0;32m   2985\u001b[0m \u001b[38;5;28;01mfrom\u001b[39;00m \u001b[38;5;21;01mpandas\u001b[39;00m\u001b[38;5;21;01m.\u001b[39;00m\u001b[38;5;21;01mio\u001b[39;00m \u001b[38;5;28;01mimport\u001b[39;00m sql\n\u001b[1;32m-> 2987\u001b[0m \u001b[38;5;28;01mreturn\u001b[39;00m \u001b[43msql\u001b[49m\u001b[38;5;241;43m.\u001b[39;49m\u001b[43mto_sql\u001b[49m\u001b[43m(\u001b[49m\n\u001b[0;32m   2988\u001b[0m \u001b[43m    \u001b[49m\u001b[38;5;28;43mself\u001b[39;49m\u001b[43m,\u001b[49m\n\u001b[0;32m   2989\u001b[0m \u001b[43m    \u001b[49m\u001b[43mname\u001b[49m\u001b[43m,\u001b[49m\n\u001b[0;32m   2990\u001b[0m \u001b[43m    \u001b[49m\u001b[43mcon\u001b[49m\u001b[43m,\u001b[49m\n\u001b[0;32m   2991\u001b[0m \u001b[43m    \u001b[49m\u001b[43mschema\u001b[49m\u001b[38;5;241;43m=\u001b[39;49m\u001b[43mschema\u001b[49m\u001b[43m,\u001b[49m\n\u001b[0;32m   2992\u001b[0m \u001b[43m    \u001b[49m\u001b[43mif_exists\u001b[49m\u001b[38;5;241;43m=\u001b[39;49m\u001b[43mif_exists\u001b[49m\u001b[43m,\u001b[49m\n\u001b[0;32m   2993\u001b[0m \u001b[43m    \u001b[49m\u001b[43mindex\u001b[49m\u001b[38;5;241;43m=\u001b[39;49m\u001b[43mindex\u001b[49m\u001b[43m,\u001b[49m\n\u001b[0;32m   2994\u001b[0m \u001b[43m    \u001b[49m\u001b[43mindex_label\u001b[49m\u001b[38;5;241;43m=\u001b[39;49m\u001b[43mindex_label\u001b[49m\u001b[43m,\u001b[49m\n\u001b[0;32m   2995\u001b[0m \u001b[43m    \u001b[49m\u001b[43mchunksize\u001b[49m\u001b[38;5;241;43m=\u001b[39;49m\u001b[43mchunksize\u001b[49m\u001b[43m,\u001b[49m\n\u001b[0;32m   2996\u001b[0m \u001b[43m    \u001b[49m\u001b[43mdtype\u001b[49m\u001b[38;5;241;43m=\u001b[39;49m\u001b[43mdtype\u001b[49m\u001b[43m,\u001b[49m\n\u001b[0;32m   2997\u001b[0m \u001b[43m    \u001b[49m\u001b[43mmethod\u001b[49m\u001b[38;5;241;43m=\u001b[39;49m\u001b[43mmethod\u001b[49m\u001b[43m,\u001b[49m\n\u001b[0;32m   2998\u001b[0m \u001b[43m\u001b[49m\u001b[43m)\u001b[49m\n",
      "File \u001b[1;32mc:\\Users\\Lily Logan\\AppData\\Local\\Programs\\Python\\Python310\\lib\\site-packages\\pandas\\io\\sql.py:695\u001b[0m, in \u001b[0;36mto_sql\u001b[1;34m(frame, name, con, schema, if_exists, index, index_label, chunksize, dtype, method, engine, **engine_kwargs)\u001b[0m\n\u001b[0;32m    690\u001b[0m \u001b[38;5;28;01melif\u001b[39;00m \u001b[38;5;129;01mnot\u001b[39;00m \u001b[38;5;28misinstance\u001b[39m(frame, DataFrame):\n\u001b[0;32m    691\u001b[0m     \u001b[38;5;28;01mraise\u001b[39;00m \u001b[38;5;167;01mNotImplementedError\u001b[39;00m(\n\u001b[0;32m    692\u001b[0m         \u001b[38;5;124m\"\u001b[39m\u001b[38;5;124m'\u001b[39m\u001b[38;5;124mframe\u001b[39m\u001b[38;5;124m'\u001b[39m\u001b[38;5;124m argument should be either a Series or a DataFrame\u001b[39m\u001b[38;5;124m\"\u001b[39m\n\u001b[0;32m    693\u001b[0m     )\n\u001b[1;32m--> 695\u001b[0m \u001b[38;5;28;01mreturn\u001b[39;00m pandas_sql\u001b[38;5;241m.\u001b[39mto_sql(\n\u001b[0;32m    696\u001b[0m     frame,\n\u001b[0;32m    697\u001b[0m     name,\n\u001b[0;32m    698\u001b[0m     if_exists\u001b[38;5;241m=\u001b[39mif_exists,\n\u001b[0;32m    699\u001b[0m     index\u001b[38;5;241m=\u001b[39mindex,\n\u001b[0;32m    700\u001b[0m     index_label\u001b[38;5;241m=\u001b[39mindex_label,\n\u001b[0;32m    701\u001b[0m     schema\u001b[38;5;241m=\u001b[39mschema,\n\u001b[0;32m    702\u001b[0m     chunksize\u001b[38;5;241m=\u001b[39mchunksize,\n\u001b[0;32m    703\u001b[0m     dtype\u001b[38;5;241m=\u001b[39mdtype,\n\u001b[0;32m    704\u001b[0m     method\u001b[38;5;241m=\u001b[39mmethod,\n\u001b[0;32m    705\u001b[0m     engine\u001b[38;5;241m=\u001b[39mengine,\n\u001b[0;32m    706\u001b[0m     \u001b[38;5;241m*\u001b[39m\u001b[38;5;241m*\u001b[39mengine_kwargs,\n\u001b[0;32m    707\u001b[0m )\n",
      "File \u001b[1;32mc:\\Users\\Lily Logan\\AppData\\Local\\Programs\\Python\\Python310\\lib\\site-packages\\pandas\\io\\sql.py:1738\u001b[0m, in \u001b[0;36mSQLDatabase.to_sql\u001b[1;34m(self, frame, name, if_exists, index, index_label, schema, chunksize, dtype, method, engine, **engine_kwargs)\u001b[0m\n\u001b[0;32m   1726\u001b[0m sql_engine \u001b[38;5;241m=\u001b[39m get_engine(engine)\n\u001b[0;32m   1728\u001b[0m table \u001b[38;5;241m=\u001b[39m \u001b[38;5;28mself\u001b[39m\u001b[38;5;241m.\u001b[39mprep_table(\n\u001b[0;32m   1729\u001b[0m     frame\u001b[38;5;241m=\u001b[39mframe,\n\u001b[0;32m   1730\u001b[0m     name\u001b[38;5;241m=\u001b[39mname,\n\u001b[1;32m   (...)\u001b[0m\n\u001b[0;32m   1735\u001b[0m     dtype\u001b[38;5;241m=\u001b[39mdtype,\n\u001b[0;32m   1736\u001b[0m )\n\u001b[1;32m-> 1738\u001b[0m total_inserted \u001b[38;5;241m=\u001b[39m sql_engine\u001b[38;5;241m.\u001b[39minsert_records(\n\u001b[0;32m   1739\u001b[0m     table\u001b[38;5;241m=\u001b[39mtable,\n\u001b[0;32m   1740\u001b[0m     con\u001b[38;5;241m=\u001b[39m\u001b[38;5;28mself\u001b[39m\u001b[38;5;241m.\u001b[39mconnectable,\n\u001b[0;32m   1741\u001b[0m     frame\u001b[38;5;241m=\u001b[39mframe,\n\u001b[0;32m   1742\u001b[0m     name\u001b[38;5;241m=\u001b[39mname,\n\u001b[0;32m   1743\u001b[0m     index\u001b[38;5;241m=\u001b[39mindex,\n\u001b[0;32m   1744\u001b[0m     schema\u001b[38;5;241m=\u001b[39mschema,\n\u001b[0;32m   1745\u001b[0m     chunksize\u001b[38;5;241m=\u001b[39mchunksize,\n\u001b[0;32m   1746\u001b[0m     method\u001b[38;5;241m=\u001b[39mmethod,\n\u001b[0;32m   1747\u001b[0m     \u001b[38;5;241m*\u001b[39m\u001b[38;5;241m*\u001b[39mengine_kwargs,\n\u001b[0;32m   1748\u001b[0m )\n\u001b[0;32m   1750\u001b[0m \u001b[38;5;28mself\u001b[39m\u001b[38;5;241m.\u001b[39mcheck_case_sensitive(name\u001b[38;5;241m=\u001b[39mname, schema\u001b[38;5;241m=\u001b[39mschema)\n\u001b[0;32m   1751\u001b[0m \u001b[38;5;28;01mreturn\u001b[39;00m total_inserted\n",
      "File \u001b[1;32mc:\\Users\\Lily Logan\\AppData\\Local\\Programs\\Python\\Python310\\lib\\site-packages\\pandas\\io\\sql.py:1335\u001b[0m, in \u001b[0;36mSQLAlchemyEngine.insert_records\u001b[1;34m(self, table, con, frame, name, index, schema, chunksize, method, **engine_kwargs)\u001b[0m\n\u001b[0;32m   1333\u001b[0m     \u001b[38;5;28;01mraise\u001b[39;00m \u001b[38;5;167;01mValueError\u001b[39;00m(\u001b[38;5;124m\"\u001b[39m\u001b[38;5;124minf cannot be used with MySQL\u001b[39m\u001b[38;5;124m\"\u001b[39m) \u001b[38;5;28;01mfrom\u001b[39;00m \u001b[38;5;21;01merr\u001b[39;00m\n\u001b[0;32m   1334\u001b[0m \u001b[38;5;28;01melse\u001b[39;00m:\n\u001b[1;32m-> 1335\u001b[0m     \u001b[38;5;28;01mraise\u001b[39;00m err\n",
      "File \u001b[1;32mc:\\Users\\Lily Logan\\AppData\\Local\\Programs\\Python\\Python310\\lib\\site-packages\\pandas\\io\\sql.py:1325\u001b[0m, in \u001b[0;36mSQLAlchemyEngine.insert_records\u001b[1;34m(self, table, con, frame, name, index, schema, chunksize, method, **engine_kwargs)\u001b[0m\n\u001b[0;32m   1322\u001b[0m \u001b[38;5;28;01mfrom\u001b[39;00m \u001b[38;5;21;01msqlalchemy\u001b[39;00m \u001b[38;5;28;01mimport\u001b[39;00m exc\n\u001b[0;32m   1324\u001b[0m \u001b[38;5;28;01mtry\u001b[39;00m:\n\u001b[1;32m-> 1325\u001b[0m     \u001b[38;5;28;01mreturn\u001b[39;00m \u001b[43mtable\u001b[49m\u001b[38;5;241;43m.\u001b[39;49m\u001b[43minsert\u001b[49m\u001b[43m(\u001b[49m\u001b[43mchunksize\u001b[49m\u001b[38;5;241;43m=\u001b[39;49m\u001b[43mchunksize\u001b[49m\u001b[43m,\u001b[49m\u001b[43m \u001b[49m\u001b[43mmethod\u001b[49m\u001b[38;5;241;43m=\u001b[39;49m\u001b[43mmethod\u001b[49m\u001b[43m)\u001b[49m\n\u001b[0;32m   1326\u001b[0m \u001b[38;5;28;01mexcept\u001b[39;00m exc\u001b[38;5;241m.\u001b[39mSQLAlchemyError \u001b[38;5;28;01mas\u001b[39;00m err:\n\u001b[0;32m   1327\u001b[0m     \u001b[38;5;66;03m# GH34431\u001b[39;00m\n\u001b[0;32m   1328\u001b[0m     \u001b[38;5;66;03m# https://stackoverflow.com/a/67358288/6067848\u001b[39;00m\n\u001b[0;32m   1329\u001b[0m     msg \u001b[38;5;241m=\u001b[39m \u001b[38;5;124mr\u001b[39m\u001b[38;5;124m\"\"\"\u001b[39m\u001b[38;5;124m(\u001b[39m\u001b[38;5;124m\\\u001b[39m\u001b[38;5;124m(1054, \u001b[39m\u001b[38;5;124m\"\u001b[39m\u001b[38;5;124mUnknown column \u001b[39m\u001b[38;5;124m'\u001b[39m\u001b[38;5;124minf(e0)?\u001b[39m\u001b[38;5;124m'\u001b[39m\u001b[38;5;124m in \u001b[39m\u001b[38;5;124m'\u001b[39m\u001b[38;5;124mfield list\u001b[39m\u001b[38;5;124m'\u001b[39m\u001b[38;5;124m\"\u001b[39m\u001b[38;5;124m\\\u001b[39m\u001b[38;5;124m))(?#\u001b[39m\n\u001b[0;32m   1330\u001b[0m \u001b[38;5;124m    )|inf can not be used with MySQL\u001b[39m\u001b[38;5;124m\"\"\"\u001b[39m\n",
      "File \u001b[1;32mc:\\Users\\Lily Logan\\AppData\\Local\\Programs\\Python\\Python310\\lib\\site-packages\\pandas\\io\\sql.py:946\u001b[0m, in \u001b[0;36mSQLTable.insert\u001b[1;34m(self, chunksize, method)\u001b[0m\n\u001b[0;32m    943\u001b[0m     \u001b[38;5;28;01mbreak\u001b[39;00m\n\u001b[0;32m    945\u001b[0m chunk_iter \u001b[38;5;241m=\u001b[39m \u001b[38;5;28mzip\u001b[39m(\u001b[38;5;241m*\u001b[39m(arr[start_i:end_i] \u001b[38;5;28;01mfor\u001b[39;00m arr \u001b[38;5;129;01min\u001b[39;00m data_list))\n\u001b[1;32m--> 946\u001b[0m num_inserted \u001b[38;5;241m=\u001b[39m \u001b[43mexec_insert\u001b[49m\u001b[43m(\u001b[49m\u001b[43mconn\u001b[49m\u001b[43m,\u001b[49m\u001b[43m \u001b[49m\u001b[43mkeys\u001b[49m\u001b[43m,\u001b[49m\u001b[43m \u001b[49m\u001b[43mchunk_iter\u001b[49m\u001b[43m)\u001b[49m\n\u001b[0;32m    947\u001b[0m \u001b[38;5;66;03m# GH 46891\u001b[39;00m\n\u001b[0;32m    948\u001b[0m \u001b[38;5;28;01mif\u001b[39;00m is_integer(num_inserted):\n",
      "File \u001b[1;32mc:\\Users\\Lily Logan\\AppData\\Local\\Programs\\Python\\Python310\\lib\\site-packages\\pandas\\io\\sql.py:853\u001b[0m, in \u001b[0;36mSQLTable._execute_insert\u001b[1;34m(self, conn, keys, data_iter)\u001b[0m\n\u001b[0;32m    841\u001b[0m \u001b[38;5;250m\u001b[39m\u001b[38;5;124;03m\"\"\"\u001b[39;00m\n\u001b[0;32m    842\u001b[0m \u001b[38;5;124;03mExecute SQL statement inserting data\u001b[39;00m\n\u001b[0;32m    843\u001b[0m \n\u001b[1;32m   (...)\u001b[0m\n\u001b[0;32m    850\u001b[0m \u001b[38;5;124;03m   Each item contains a list of values to be inserted\u001b[39;00m\n\u001b[0;32m    851\u001b[0m \u001b[38;5;124;03m\"\"\"\u001b[39;00m\n\u001b[0;32m    852\u001b[0m data \u001b[38;5;241m=\u001b[39m [\u001b[38;5;28mdict\u001b[39m(\u001b[38;5;28mzip\u001b[39m(keys, row)) \u001b[38;5;28;01mfor\u001b[39;00m row \u001b[38;5;129;01min\u001b[39;00m data_iter]\n\u001b[1;32m--> 853\u001b[0m result \u001b[38;5;241m=\u001b[39m \u001b[43mconn\u001b[49m\u001b[38;5;241;43m.\u001b[39;49m\u001b[43mexecute\u001b[49m\u001b[43m(\u001b[49m\u001b[38;5;28;43mself\u001b[39;49m\u001b[38;5;241;43m.\u001b[39;49m\u001b[43mtable\u001b[49m\u001b[38;5;241;43m.\u001b[39;49m\u001b[43minsert\u001b[49m\u001b[43m(\u001b[49m\u001b[43m)\u001b[49m\u001b[43m,\u001b[49m\u001b[43m \u001b[49m\u001b[43mdata\u001b[49m\u001b[43m)\u001b[49m\n\u001b[0;32m    854\u001b[0m \u001b[38;5;28;01mreturn\u001b[39;00m result\u001b[38;5;241m.\u001b[39mrowcount\n",
      "File \u001b[1;32mc:\\Users\\Lily Logan\\AppData\\Local\\Programs\\Python\\Python310\\lib\\site-packages\\sqlalchemy\\engine\\base.py:1412\u001b[0m, in \u001b[0;36mConnection.execute\u001b[1;34m(self, statement, parameters, execution_options)\u001b[0m\n\u001b[0;32m   1410\u001b[0m     \u001b[38;5;28;01mraise\u001b[39;00m exc\u001b[38;5;241m.\u001b[39mObjectNotExecutableError(statement) \u001b[38;5;28;01mfrom\u001b[39;00m \u001b[38;5;21;01merr\u001b[39;00m\n\u001b[0;32m   1411\u001b[0m \u001b[38;5;28;01melse\u001b[39;00m:\n\u001b[1;32m-> 1412\u001b[0m     \u001b[38;5;28;01mreturn\u001b[39;00m \u001b[43mmeth\u001b[49m\u001b[43m(\u001b[49m\n\u001b[0;32m   1413\u001b[0m \u001b[43m        \u001b[49m\u001b[38;5;28;43mself\u001b[39;49m\u001b[43m,\u001b[49m\n\u001b[0;32m   1414\u001b[0m \u001b[43m        \u001b[49m\u001b[43mdistilled_parameters\u001b[49m\u001b[43m,\u001b[49m\n\u001b[0;32m   1415\u001b[0m \u001b[43m        \u001b[49m\u001b[43mexecution_options\u001b[49m\u001b[43m \u001b[49m\u001b[38;5;129;43;01mor\u001b[39;49;00m\u001b[43m \u001b[49m\u001b[43mNO_OPTIONS\u001b[49m\u001b[43m,\u001b[49m\n\u001b[0;32m   1416\u001b[0m \u001b[43m    \u001b[49m\u001b[43m)\u001b[49m\n",
      "File \u001b[1;32mc:\\Users\\Lily Logan\\AppData\\Local\\Programs\\Python\\Python310\\lib\\site-packages\\sqlalchemy\\sql\\elements.py:516\u001b[0m, in \u001b[0;36mClauseElement._execute_on_connection\u001b[1;34m(self, connection, distilled_params, execution_options)\u001b[0m\n\u001b[0;32m    514\u001b[0m     \u001b[38;5;28;01mif\u001b[39;00m TYPE_CHECKING:\n\u001b[0;32m    515\u001b[0m         \u001b[38;5;28;01massert\u001b[39;00m \u001b[38;5;28misinstance\u001b[39m(\u001b[38;5;28mself\u001b[39m, Executable)\n\u001b[1;32m--> 516\u001b[0m     \u001b[38;5;28;01mreturn\u001b[39;00m \u001b[43mconnection\u001b[49m\u001b[38;5;241;43m.\u001b[39;49m\u001b[43m_execute_clauseelement\u001b[49m\u001b[43m(\u001b[49m\n\u001b[0;32m    517\u001b[0m \u001b[43m        \u001b[49m\u001b[38;5;28;43mself\u001b[39;49m\u001b[43m,\u001b[49m\u001b[43m \u001b[49m\u001b[43mdistilled_params\u001b[49m\u001b[43m,\u001b[49m\u001b[43m \u001b[49m\u001b[43mexecution_options\u001b[49m\n\u001b[0;32m    518\u001b[0m \u001b[43m    \u001b[49m\u001b[43m)\u001b[49m\n\u001b[0;32m    519\u001b[0m \u001b[38;5;28;01melse\u001b[39;00m:\n\u001b[0;32m    520\u001b[0m     \u001b[38;5;28;01mraise\u001b[39;00m exc\u001b[38;5;241m.\u001b[39mObjectNotExecutableError(\u001b[38;5;28mself\u001b[39m)\n",
      "File \u001b[1;32mc:\\Users\\Lily Logan\\AppData\\Local\\Programs\\Python\\Python310\\lib\\site-packages\\sqlalchemy\\engine\\base.py:1635\u001b[0m, in \u001b[0;36mConnection._execute_clauseelement\u001b[1;34m(self, elem, distilled_parameters, execution_options)\u001b[0m\n\u001b[0;32m   1623\u001b[0m compiled_cache: Optional[CompiledCacheType] \u001b[38;5;241m=\u001b[39m execution_options\u001b[38;5;241m.\u001b[39mget(\n\u001b[0;32m   1624\u001b[0m     \u001b[38;5;124m\"\u001b[39m\u001b[38;5;124mcompiled_cache\u001b[39m\u001b[38;5;124m\"\u001b[39m, \u001b[38;5;28mself\u001b[39m\u001b[38;5;241m.\u001b[39mengine\u001b[38;5;241m.\u001b[39m_compiled_cache\n\u001b[0;32m   1625\u001b[0m )\n\u001b[0;32m   1627\u001b[0m compiled_sql, extracted_params, cache_hit \u001b[38;5;241m=\u001b[39m elem\u001b[38;5;241m.\u001b[39m_compile_w_cache(\n\u001b[0;32m   1628\u001b[0m     dialect\u001b[38;5;241m=\u001b[39mdialect,\n\u001b[0;32m   1629\u001b[0m     compiled_cache\u001b[38;5;241m=\u001b[39mcompiled_cache,\n\u001b[1;32m   (...)\u001b[0m\n\u001b[0;32m   1633\u001b[0m     linting\u001b[38;5;241m=\u001b[39m\u001b[38;5;28mself\u001b[39m\u001b[38;5;241m.\u001b[39mdialect\u001b[38;5;241m.\u001b[39mcompiler_linting \u001b[38;5;241m|\u001b[39m compiler\u001b[38;5;241m.\u001b[39mWARN_LINTING,\n\u001b[0;32m   1634\u001b[0m )\n\u001b[1;32m-> 1635\u001b[0m ret \u001b[38;5;241m=\u001b[39m \u001b[38;5;28;43mself\u001b[39;49m\u001b[38;5;241;43m.\u001b[39;49m\u001b[43m_execute_context\u001b[49m\u001b[43m(\u001b[49m\n\u001b[0;32m   1636\u001b[0m \u001b[43m    \u001b[49m\u001b[43mdialect\u001b[49m\u001b[43m,\u001b[49m\n\u001b[0;32m   1637\u001b[0m \u001b[43m    \u001b[49m\u001b[43mdialect\u001b[49m\u001b[38;5;241;43m.\u001b[39;49m\u001b[43mexecution_ctx_cls\u001b[49m\u001b[38;5;241;43m.\u001b[39;49m\u001b[43m_init_compiled\u001b[49m\u001b[43m,\u001b[49m\n\u001b[0;32m   1638\u001b[0m \u001b[43m    \u001b[49m\u001b[43mcompiled_sql\u001b[49m\u001b[43m,\u001b[49m\n\u001b[0;32m   1639\u001b[0m \u001b[43m    \u001b[49m\u001b[43mdistilled_parameters\u001b[49m\u001b[43m,\u001b[49m\n\u001b[0;32m   1640\u001b[0m \u001b[43m    \u001b[49m\u001b[43mexecution_options\u001b[49m\u001b[43m,\u001b[49m\n\u001b[0;32m   1641\u001b[0m \u001b[43m    \u001b[49m\u001b[43mcompiled_sql\u001b[49m\u001b[43m,\u001b[49m\n\u001b[0;32m   1642\u001b[0m \u001b[43m    \u001b[49m\u001b[43mdistilled_parameters\u001b[49m\u001b[43m,\u001b[49m\n\u001b[0;32m   1643\u001b[0m \u001b[43m    \u001b[49m\u001b[43melem\u001b[49m\u001b[43m,\u001b[49m\n\u001b[0;32m   1644\u001b[0m \u001b[43m    \u001b[49m\u001b[43mextracted_params\u001b[49m\u001b[43m,\u001b[49m\n\u001b[0;32m   1645\u001b[0m \u001b[43m    \u001b[49m\u001b[43mcache_hit\u001b[49m\u001b[38;5;241;43m=\u001b[39;49m\u001b[43mcache_hit\u001b[49m\u001b[43m,\u001b[49m\n\u001b[0;32m   1646\u001b[0m \u001b[43m\u001b[49m\u001b[43m)\u001b[49m\n\u001b[0;32m   1647\u001b[0m \u001b[38;5;28;01mif\u001b[39;00m has_events:\n\u001b[0;32m   1648\u001b[0m     \u001b[38;5;28mself\u001b[39m\u001b[38;5;241m.\u001b[39mdispatch\u001b[38;5;241m.\u001b[39mafter_execute(\n\u001b[0;32m   1649\u001b[0m         \u001b[38;5;28mself\u001b[39m,\n\u001b[0;32m   1650\u001b[0m         elem,\n\u001b[1;32m   (...)\u001b[0m\n\u001b[0;32m   1654\u001b[0m         ret,\n\u001b[0;32m   1655\u001b[0m     )\n",
      "File \u001b[1;32mc:\\Users\\Lily Logan\\AppData\\Local\\Programs\\Python\\Python310\\lib\\site-packages\\sqlalchemy\\engine\\base.py:1844\u001b[0m, in \u001b[0;36mConnection._execute_context\u001b[1;34m(self, dialect, constructor, statement, parameters, execution_options, *args, **kw)\u001b[0m\n\u001b[0;32m   1839\u001b[0m     \u001b[38;5;28;01mreturn\u001b[39;00m \u001b[38;5;28mself\u001b[39m\u001b[38;5;241m.\u001b[39m_exec_insertmany_context(\n\u001b[0;32m   1840\u001b[0m         dialect,\n\u001b[0;32m   1841\u001b[0m         context,\n\u001b[0;32m   1842\u001b[0m     )\n\u001b[0;32m   1843\u001b[0m \u001b[38;5;28;01melse\u001b[39;00m:\n\u001b[1;32m-> 1844\u001b[0m     \u001b[38;5;28;01mreturn\u001b[39;00m \u001b[38;5;28;43mself\u001b[39;49m\u001b[38;5;241;43m.\u001b[39;49m\u001b[43m_exec_single_context\u001b[49m\u001b[43m(\u001b[49m\n\u001b[0;32m   1845\u001b[0m \u001b[43m        \u001b[49m\u001b[43mdialect\u001b[49m\u001b[43m,\u001b[49m\u001b[43m \u001b[49m\u001b[43mcontext\u001b[49m\u001b[43m,\u001b[49m\u001b[43m \u001b[49m\u001b[43mstatement\u001b[49m\u001b[43m,\u001b[49m\u001b[43m \u001b[49m\u001b[43mparameters\u001b[49m\n\u001b[0;32m   1846\u001b[0m \u001b[43m    \u001b[49m\u001b[43m)\u001b[49m\n",
      "File \u001b[1;32mc:\\Users\\Lily Logan\\AppData\\Local\\Programs\\Python\\Python310\\lib\\site-packages\\sqlalchemy\\engine\\base.py:1984\u001b[0m, in \u001b[0;36mConnection._exec_single_context\u001b[1;34m(self, dialect, context, statement, parameters)\u001b[0m\n\u001b[0;32m   1981\u001b[0m     result \u001b[38;5;241m=\u001b[39m context\u001b[38;5;241m.\u001b[39m_setup_result_proxy()\n\u001b[0;32m   1983\u001b[0m \u001b[38;5;28;01mexcept\u001b[39;00m \u001b[38;5;167;01mBaseException\u001b[39;00m \u001b[38;5;28;01mas\u001b[39;00m e:\n\u001b[1;32m-> 1984\u001b[0m     \u001b[38;5;28;43mself\u001b[39;49m\u001b[38;5;241;43m.\u001b[39;49m\u001b[43m_handle_dbapi_exception\u001b[49m\u001b[43m(\u001b[49m\n\u001b[0;32m   1985\u001b[0m \u001b[43m        \u001b[49m\u001b[43me\u001b[49m\u001b[43m,\u001b[49m\u001b[43m \u001b[49m\u001b[43mstr_statement\u001b[49m\u001b[43m,\u001b[49m\u001b[43m \u001b[49m\u001b[43meffective_parameters\u001b[49m\u001b[43m,\u001b[49m\u001b[43m \u001b[49m\u001b[43mcursor\u001b[49m\u001b[43m,\u001b[49m\u001b[43m \u001b[49m\u001b[43mcontext\u001b[49m\n\u001b[0;32m   1986\u001b[0m \u001b[43m    \u001b[49m\u001b[43m)\u001b[49m\n\u001b[0;32m   1988\u001b[0m \u001b[38;5;28;01mreturn\u001b[39;00m result\n",
      "File \u001b[1;32mc:\\Users\\Lily Logan\\AppData\\Local\\Programs\\Python\\Python310\\lib\\site-packages\\sqlalchemy\\engine\\base.py:2339\u001b[0m, in \u001b[0;36mConnection._handle_dbapi_exception\u001b[1;34m(self, e, statement, parameters, cursor, context, is_sub_exec)\u001b[0m\n\u001b[0;32m   2337\u001b[0m \u001b[38;5;28;01melif\u001b[39;00m should_wrap:\n\u001b[0;32m   2338\u001b[0m     \u001b[38;5;28;01massert\u001b[39;00m sqlalchemy_exception \u001b[38;5;129;01mis\u001b[39;00m \u001b[38;5;129;01mnot\u001b[39;00m \u001b[38;5;28;01mNone\u001b[39;00m\n\u001b[1;32m-> 2339\u001b[0m     \u001b[38;5;28;01mraise\u001b[39;00m sqlalchemy_exception\u001b[38;5;241m.\u001b[39mwith_traceback(exc_info[\u001b[38;5;241m2\u001b[39m]) \u001b[38;5;28;01mfrom\u001b[39;00m \u001b[38;5;21;01me\u001b[39;00m\n\u001b[0;32m   2340\u001b[0m \u001b[38;5;28;01melse\u001b[39;00m:\n\u001b[0;32m   2341\u001b[0m     \u001b[38;5;28;01massert\u001b[39;00m exc_info[\u001b[38;5;241m1\u001b[39m] \u001b[38;5;129;01mis\u001b[39;00m \u001b[38;5;129;01mnot\u001b[39;00m \u001b[38;5;28;01mNone\u001b[39;00m\n",
      "File \u001b[1;32mc:\\Users\\Lily Logan\\AppData\\Local\\Programs\\Python\\Python310\\lib\\site-packages\\sqlalchemy\\engine\\base.py:1934\u001b[0m, in \u001b[0;36mConnection._exec_single_context\u001b[1;34m(self, dialect, context, statement, parameters)\u001b[0m\n\u001b[0;32m   1932\u001b[0m                 \u001b[38;5;28;01mbreak\u001b[39;00m\n\u001b[0;32m   1933\u001b[0m     \u001b[38;5;28;01mif\u001b[39;00m \u001b[38;5;129;01mnot\u001b[39;00m evt_handled:\n\u001b[1;32m-> 1934\u001b[0m         \u001b[38;5;28;43mself\u001b[39;49m\u001b[38;5;241;43m.\u001b[39;49m\u001b[43mdialect\u001b[49m\u001b[38;5;241;43m.\u001b[39;49m\u001b[43mdo_executemany\u001b[49m\u001b[43m(\u001b[49m\n\u001b[0;32m   1935\u001b[0m \u001b[43m            \u001b[49m\u001b[43mcursor\u001b[49m\u001b[43m,\u001b[49m\n\u001b[0;32m   1936\u001b[0m \u001b[43m            \u001b[49m\u001b[43mstr_statement\u001b[49m\u001b[43m,\u001b[49m\n\u001b[0;32m   1937\u001b[0m \u001b[43m            \u001b[49m\u001b[43meffective_parameters\u001b[49m\u001b[43m,\u001b[49m\n\u001b[0;32m   1938\u001b[0m \u001b[43m            \u001b[49m\u001b[43mcontext\u001b[49m\u001b[43m,\u001b[49m\n\u001b[0;32m   1939\u001b[0m \u001b[43m        \u001b[49m\u001b[43m)\u001b[49m\n\u001b[0;32m   1940\u001b[0m \u001b[38;5;28;01melif\u001b[39;00m \u001b[38;5;129;01mnot\u001b[39;00m effective_parameters \u001b[38;5;129;01mand\u001b[39;00m context\u001b[38;5;241m.\u001b[39mno_parameters:\n\u001b[0;32m   1941\u001b[0m     \u001b[38;5;28;01mif\u001b[39;00m \u001b[38;5;28mself\u001b[39m\u001b[38;5;241m.\u001b[39mdialect\u001b[38;5;241m.\u001b[39m_has_events:\n",
      "File \u001b[1;32mc:\\Users\\Lily Logan\\AppData\\Local\\Programs\\Python\\Python310\\lib\\site-packages\\sqlalchemy\\engine\\default.py:918\u001b[0m, in \u001b[0;36mDefaultDialect.do_executemany\u001b[1;34m(self, cursor, statement, parameters, context)\u001b[0m\n\u001b[0;32m    917\u001b[0m \u001b[38;5;28;01mdef\u001b[39;00m \u001b[38;5;21mdo_executemany\u001b[39m(\u001b[38;5;28mself\u001b[39m, cursor, statement, parameters, context\u001b[38;5;241m=\u001b[39m\u001b[38;5;28;01mNone\u001b[39;00m):\n\u001b[1;32m--> 918\u001b[0m     \u001b[43mcursor\u001b[49m\u001b[38;5;241;43m.\u001b[39;49m\u001b[43mexecutemany\u001b[49m\u001b[43m(\u001b[49m\u001b[43mstatement\u001b[49m\u001b[43m,\u001b[49m\u001b[43m \u001b[49m\u001b[43mparameters\u001b[49m\u001b[43m)\u001b[49m\n",
      "\u001b[1;31mInterfaceError\u001b[0m: (sqlite3.InterfaceError) Error binding parameter 15 - probably unsupported type.\n[SQL: INSERT INTO recipe_database (recipe_id, recipe_name, prep_time, cook_time, total_time, servings, yield, ingredients, directions, rating, url, cuisine_path, nutrition, timing, img_src, cleaned_ingredients, image_path) VALUES (?, ?, ?, ?, ?, ?, ?, ?, ?, ?, ?, ?, ?, ?, ?, ?, ?)]\n[parameters: [('1', 'Apple Pie by Grandma Ople', '30 mins', '1 hrs', '1 hrs 30 mins', 8, '1 9-inch pie', '8 small Granny Smith apples, or as needed, ½ cup unsalted butter, 3 tablespoons all-purpose flour, ½ cup white sugar, ½ cup packed brown sugar, ¼ cup water, 1 (9 inch) double-crust pie pastry, thawed', \"Peel and core apples, then thinly slice. Set aside.\\nPreheat the oven to 425 degrees F (220 degrees C).\\nMelt butter in a saucepan over medium heat.  ... (1389 characters truncated) ... duce the temperature to 350 degrees F (175 degrees C) and continue baking until apples are soft, 35 to 45 minutes.\\n\\n\\n\\n\\n\\n\\n\\n\\n\\n\\n\\nNatalie T\\n\", 4.8, 'https://www.allrecipes.com/recipe/12682/apple-pie-by-grandma-ople/', '/Desserts/Pies/Apple Pie Recipes/', 'Total Fat 19g 24%, Saturated Fat 9g 46%, Cholesterol 31mg 10%, Sodium 124mg 5%, Total Carbohydrate 52g 19%, Dietary Fiber 3g 10%, Protein 2g, Vitamin C 5mg 27%, Calcium 23mg 2%, Iron 1mg 6%, Potassium 156mg 3%', 'Prep Time: 30 mins, Cook Time: 1 hrs, Total Time: 1 hrs 30 mins, Servings: 8, Yield: 1 9-inch pie', 'https://www.allrecipes.com/thmb/1I95oiTGz6aEpuHd2DAr33w7Mgg=/1500x0/filters:no_upscale():max_bytes(150000):strip_icc()/12682-apple-pie-by-grandma-ople-natasha-titanov-1x1-1-7f1cd9f631d24ff0b90cac0163247686.jpg', ['8 small Granny Smith apples', ' or as needed', ' ½ cup unsalted butter', ' 3 tablespoons all-purpose flour', ' ½ cup white sugar', ' ½ cup packed brown sugar', ' ¼ cup water', ' 1 (9 inch) double-crust pie pastry', ' thawed'], './images/1.png'), ('3', 'Apple Crisp', '30 mins', '45 mins', '1 hrs 15 mins', 12, '1 9x13-inch pan', '10 cups all-purpose apples, peeled, cored and sliced, 1 cup white sugar, 1 tablespoon all-purpose flour, 1 teaspoon ground cinnamon, ½ cup water, 1 cup quick-cooking oats, 1 cup all-purpose flour, 1 cup packed brown sugar, ¼ teaspoon baking powder, ¼ teaspoon baking soda, ½ cup butter, melted', 'Preheat the oven to 350 degrees F (175 degrees C).\\nPlace sliced apples in a 9x13-inch baking dish. Mix white sugar, 1 tablespoon flour, and cinnamon ... (261 characters truncated) ... ted oven until top is golden brown and apples are bubbling around the edges, about 45 minutes.\\n\\n\\n\\n\\n\\n\\n\\n\\n\\n\\n\\nDotdash Meredith Food Studios\\n', 4.7, 'https://www.allrecipes.com/recipe/12409/apple-crisp-ii/', '/Desserts/Crisps and Crumbles Recipes/Apple Crisps and Crumbles Recipes/', 'Total Fat 8g 11%, Saturated Fat 5g 25%, Cholesterol 20mg 7%, Sodium 98mg 4%, Total Carbohydrate 61g 22%, Dietary Fiber 3g 12%, Total Sugars 44g, Protein 2g, Vitamin C 4mg 21%, Calcium 36mg 3%, Iron 1mg 6%, Potassium 162mg 3%', 'Prep Time: 30 mins, Cook Time: 45 mins, Total Time: 1 hrs 15 mins, Servings: 12, Yield: 1 9x13-inch pan', 'https://www.allrecipes.com/thmb/uAzhPOh86PfR-NIT1_dQ5c9bhag=/1500x0/filters:no_upscale():max_bytes(150000):strip_icc()/12409-apple-crisp-MFS-027-c2f142105db44206856af57c388db3ee.jpg', ['10 cups all-purpose apples', ' peeled', ' cored and sliced', ' 1 cup white sugar', ' 1 tablespoon all-purpose flour', ' 1 teaspoon ground cinnamon', ... (36 characters truncated) ... ng oats', ' 1 cup all-purpose flour', ' 1 cup packed brown sugar', ' ¼ teaspoon baking powder', ' ¼ teaspoon baking soda', ' ½ cup butter', ' melted'], './images/3.png'), ('4', 'Apple Pie Filling', '20 mins', '20 mins', '2 hrs 40 mins', 40, '5 9-inch pies', '18 cups thinly sliced apples, 3 tablespoons lemon juice, 10 cups water, 4 ½ cups white sugar, 1 cup cornstarch, 2 teaspoons ground cinnamon, 1 teaspoon salt, ¼ teaspoon ground nutmeg', 'Toss apples with lemon juice in a large bowl and set aside.\\nPour water into a Dutch oven over medium heat. Combine sugar, cornstarch, cinnamon, salt ... (314 characters truncated) ... m temperature no longer than 1 1/2 hours.\\nSeal and freeze. Can be stored for up to 12 months.\\n\\n\\n\\n\\n\\n\\n\\n\\n\\n\\n\\nDotdash Meredith Food Studios\\n', 4.7, 'https://www.allrecipes.com/recipe/12681/apple-pie-filling/', '/Desserts/Pies/Apple Pie Recipes/', 'Total Fat 0g 0%, Sodium 61mg 3%, Total Carbohydrate 33g 12%, Dietary Fiber 1g 5%, Total Sugars 28g, Protein 0g, Vitamin C 3mg 16%, Calcium 7mg 1%, Iron 0mg 1%, Potassium 63mg 1%', 'Prep Time: 20 mins, Cook Time: 20 mins, Additional Time: 2 hrs, Total Time: 2 hrs 40 mins, Servings: 40, Yield: 5 9-inch pies', 'https://www.allrecipes.com/thmb/c0bbYaS1V_mTt_fb85yo0gPcYUM=/1500x0/filters:no_upscale():max_bytes(150000):strip_icc()/12681-apple-pie-filling-beauty-1x1-BP-2876-ed43a184f9564f4a8dc893c4ae8d561f.jpg', ['18 cups thinly sliced apples', ' 3 tablespoons lemon juice', ' 10 cups water', ' 4 ½ cups white sugar', ' 1 cup cornstarch', ' 2 teaspoons ground cinnamon', ' 1 teaspoon salt', ' ¼ teaspoon ground nutmeg'], './images/4.png'), ('7', 'Apple-Cranberry Crisp', '25 mins', '40 mins', '1 hrs 5 mins', 8, '1 8-inch crisp', '2 pounds Granny Smith apples - peeled, cored and thinly sliced, ¾ cup cranberries, ¼ cup white sugar, 1 tablespoon ground cinnamon, 1 teaspoon ground nutmeg', 'Preheat the oven to 375 degrees F (190 degrees C.) Butter an 8-inch square baking dish.\\nMix apples, cranberries, white sugar, cinnamon, and nutmeg i ... (204 characters truncated) ... . Sprinkle topping over apples in the baking dish.\\nBake in the preheated oven until apples are tender and topping is golden brown, 40 to 50 minutes.', 4.6, 'https://www.allrecipes.com/recipe/41893/apple-cranberry-crisp/', '/Desserts/Crisps and Crumbles Recipes/', 'Total Fat 12g 15%, Saturated Fat 4g 22%, Cholesterol 15mg 5%, Sodium 47mg 2%, Total Carbohydrate 43g 16%, Dietary Fiber 4g 16%, Total Sugars 32g, Protein 2g, Vitamin C 7mg 36%, Calcium 37mg 3%, Iron 1mg 6%, Potassium 207mg 4%', 'Prep Time: 25 mins, Cook Time: 40 mins, Total Time: 1 hrs 5 mins, Servings: 8, Yield: 1 8-inch crisp', 'https://www.allrecipes.com/thmb/MjDDFmBWiEx9f1kpSieyThF1KnM=/1500x0/filters:no_upscale():max_bytes(150000):strip_icc()/525977-d5f45adf863d41fba1a1071febfc00ad.jpg', ['2 pounds Granny Smith apples - peeled', ' cored and thinly sliced', ' ¾ cup cranberries', ' ¼ cup white sugar', ' 1 tablespoon ground cinnamon', ' 1 teaspoon ground nutmeg'], './images/7.png'), ('10', 'Apple Turnovers', '30 mins', '25 mins', '55 mins', 8, '8 turnovers', \"2 tablespoons lemon juice, 4 cups water, 4  Granny Smith apples - peeled, cored and sliced, 2 tablespoons butter, 1 cup brown sugar, 1 teaspoon groun ... (40 characters truncated) ... ablespoon water, 1 (17.25 ounce) package frozen puff pastry sheets, thawed, 1 cup confectioners' sugar, 1 tablespoon milk, 1 teaspoon vanilla extract\", \"Combine the lemon and 4 cups water in a large bowl. Place the sliced apples in the water to keep them from browning.\\nMelt butter in a large skillet  ... (1011 characters truncated) ...  thickness by adding more sugar or milk if necessary. Drizzle glaze over the cooled turnovers.\\n\\n\\n\\n\\n\\n\\n\\n\\n\\n\\n\\nDotdash Meredith Food Studios\\n\", 4.6, 'https://www.allrecipes.com/recipe/59124/apple-turnovers/', '/Desserts/Fruit Desserts/Apple Dessert Recipes/', 'Total Fat 26g 33%, Saturated Fat 8g 39%, Cholesterol 8mg 3%, Sodium 184mg 8%, Total Carbohydrate 80g 29%, Dietary Fiber 2g 9%, Total Sugars 50g, Protein 5g, Vitamin C 5mg 26%, Calcium 42mg 3%, Iron 2mg 11%, Potassium 161mg 3%', 'Prep Time: 30 mins, Cook Time: 25 mins, Total Time: 55 mins, Servings: 8, Yield: 8 turnovers', 'https://www.allrecipes.com/thmb/6EpK8eOrDHd4MMlY4u4aXTOPtHA=/1500x0/filters:no_upscale():max_bytes(150000):strip_icc()/59124-AppleTurnovers-mfs-2X3-1645-dea040eab9a84c7483c411988b92d134.jpg', ['2 tablespoons lemon juice', ' 4 cups water', ' 4  Granny Smith apples - peeled', ' cored and sliced', ' 2 tablespoons butter', ' 1 cup brown sugar', ... (81 characters truncated) ... , ' 1 (17.25 ounce) package frozen puff pastry sheets', ' thawed', \" 1 cup confectioners' sugar\", ' 1 tablespoon milk', ' 1 teaspoon vanilla extract'], './images/10.png'), ('11', 'Apple Crisp - Perfect and Easy', '20 mins', '40 mins', '1 hrs', 6, '1 8-inch square dish', '2 ½ cups apples - peeled, cored, and sliced, 1 cup sifted all-purpose flour, 1 cup white sugar, ½ teaspoon ground cinnamon, ¼ teaspoon salt, ½ cup butter, softened', 'Preheat the oven to 375 degrees F (190 degrees C). Lightly grease an 8-inch square baking dish.\\nArrange apple slices evenly in the prepared baking d ... (158 characters truncated) ... ver apples.\\nBake in the preheated oven until topping is golden, 40 to 45 minutes. Cool slightly before serving.\\n\\n\\n\\n\\n\\n\\n\\n\\n\\n\\n\\nnaples34102\\n', 4.7, 'https://www.allrecipes.com/recipe/229274/apple-crisp-perfect-and-easy/', '/Desserts/Crisps and Crumbles Recipes/Apple Crisps and Crumbles Recipes/', 'Total Fat 16g 20%, Saturated Fat 10g 49%, Cholesterol 41mg 14%, Sodium 207mg 9%, Total Carbohydrate 56g 20%, Dietary Fiber 2g 6%, Total Sugars 38g, Protein 2g, Vitamin C 2mg 11%, Calcium 13mg 1%, Iron 1mg 6%, Potassium 77mg 2%', 'Prep Time: 20 mins, Cook Time: 40 mins, Total Time: 1 hrs, Servings: 6, Yield: 1 8-inch square dish', 'https://www.allrecipes.com/thmb/hPRM3eLo_H-Z2kSeRRizL0El3ao=/1500x0/filters:no_upscale():max_bytes(150000):strip_icc()/1046883-apple-crisp-perfect-and-easy-naples34102-e505af44f7d9409ba48fc00e15efa036.jpeg', ['2 ½ cups apples - peeled', ' cored', ' and sliced', ' 1 cup sifted all-purpose flour', ' 1 cup white sugar', ' ½ teaspoon ground cinnamon', ' ¼ teaspoon salt', ' ½ cup butter', ' softened'], './images/11.png'), ('14', 'Sauteed Apples', '5 mins', '15 mins', '20 mins', 8, '4 cups', '¼ cup butter, 4 large tart apples - peeled, cored and sliced 1/4 inch thick, ½ cup cold water, 2 teaspoons cornstarch, ½ cup brown sugar, ½ teaspoon ground cinnamon', 'Melt butter in a large skillet or saucepan over medium heat; add apples and cook, stirring constantly, until almost tender, 6 to 7 minutes.\\nMix wate ... (117 characters truncated) ... nnamon. Bring to a boil for 2 minutes, stirring occasionally. Remove from heat and serve warm.\\n\\n\\n\\n\\n\\n\\n\\n\\n\\n\\n\\ndotdash meredith food studios\\n', 4.8, 'https://www.allrecipes.com/recipe/21672/sauteed-apples/', '/Side Dish/', 'Total Fat 6g 8%, Saturated Fat 4g 19%, Cholesterol 15mg 5%, Sodium 45mg 2%, Total Carbohydrate 24g 9%, Dietary Fiber 3g 9%, Total Sugars 20g, Protein 0g, Vitamin C 5mg 25%, Calcium 18mg 1%, Iron 0mg 1%, Potassium 128mg 3%', 'Prep Time: 5 mins, Cook Time: 15 mins, Total Time: 20 mins, Servings: 8, Yield: 4 cups', 'https://www.allrecipes.com/thmb/pTjoToZum_x5Ki9khNk_SSe7MEs=/1500x0/filters:no_upscale():max_bytes(150000):strip_icc()/21672-SauteedApples-ddmfs-1X1-0061-fe2952cf8a6148959bd0076742996deb.jpg', ['¼ cup butter', ' 4 large tart apples - peeled', ' cored and sliced 1/4 inch thick', ' ½ cup cold water', ' 2 teaspoons cornstarch', ' ½ cup brown sugar', ' ½ teaspoon ground cinnamon'], './images/14.png'), ('15', 'Homemade Apple Cider', '15 mins', '3 hrs', '7 hrs 15 mins', 16, '1 gallon', '10 large apples, quartered,   water, to cover, ¾ cup white sugar, 1 tablespoon ground cinnamon, 1 tablespoon ground allspice', 'Place apples in a large stockpot; cover with water by at least 2 inches. Stir in sugar, cinnamon, and allspice. Bring to a boil over medium-high heat ... (132 characters truncated) ... olids. Drain cider again through a cheesecloth-lined sieve.\\nRefrigerate cider until cold, about 4 hours.\\n\\n\\n\\n\\n\\n\\n\\n\\n\\n\\n\\n LaDonna Langwell \\n', 4.4, 'https://www.allrecipes.com/recipe/211772/homemade-apple-cider/', '/Drinks Recipes/Juice Recipes/', 'Total Fat 0g 0%, Sodium 1mg 0%, Total Carbohydrate 22g 8%, Dietary Fiber 2g 9%, Total Sugars 18g, Protein 0g, Vitamin C 4mg 21%, Calcium 12mg 1%, Iron 0mg 1%, Potassium 98mg 2%', 'Prep Time: 15 mins, Cook Time: 3 hrs, Additional Time: 4 hrs, Total Time: 7 hrs 15 mins, Servings: 16, Yield: 1 gallon', 'https://www.allrecipes.com/thmb/M0dm6zV9huJMIy70_9np9ztM4Sw=/1500x0/filters:no_upscale():max_bytes(150000):strip_icc()/Homemade-Apple-Cider-LaDonna-Langwell-1x1-1-a6afe5b44bd246d39e597ed59281bbd5.jpg', ['10 large apples', ' quartered', '   water', ' to cover', ' ¾ cup white sugar', ' 1 tablespoon ground cinnamon', ' 1 tablespoon ground allspice'], './images/15.png')  ... displaying 10 of 631 total bound parameter sets ...  ('1087', 'Best Hot Sauce', '10 mins', '20 mins', '30 mins', 100, '2 cups', '10  fresh hot chile peppers, stems removed, 1  onion, coarsely chopped, ¼ cup pitted fresh dates, or more to taste, ¼ cup fresh basil leaves, ¼ cup f ... (39 characters truncated) ... ato, roughly chopped, 2 tablespoons beef bouillon powder, 4  garlic cloves, ½ cup vegetable oil, or as needed,   salt to taste, 1 squeeze lemon juice', 'Place peppers, onion, dates, basil, parsley, tomato, bouillon powder, and garlic in the bowl of a food processor; pour in the oil. Pulse mixture unti ... (175 characters truncated) ... duce heat to low, and simmer for 15 minutes.\\nAllow pepper mixture to cool; pour into a glass jar with a lid. Store pepper sauce in the refrigerator.', 4.9, 'https://www.allrecipes.com/recipe/242153/best-hot-sauce/', '/Side Dish/Sauces and Condiments/', 'Total Fat 1g 1%, Saturated Fat 0g 1%, Sodium 29mg 1%, Total Carbohydrate 1g 0%, Dietary Fiber 0g 0%, Total Sugars 0g, Protein 0g, Vitamin C 11mg 57%, Calcium 2mg 0%, Iron 0mg 1%, Potassium 21mg 0%', 'Prep Time: 10 mins, Cook Time: 20 mins, Total Time: 30 mins, Servings: 100, Yield: 2 cups', 'https://www.allrecipes.com/thmb/80wUYzFvbycfxxDSPtq83Vo3r1k=/1500x0/filters:no_upscale():max_bytes(150000):strip_icc()/2513802-5c855a29fc3e4e14a9cf88a3e72fe63f.jpg', ['10  fresh hot chile peppers', ' stems removed', ' 1  onion', ' coarsely chopped', ' ¼ cup pitted fresh dates', ' or more to taste', ' ¼ cup fresh ba ... (86 characters truncated) ... d', ' 2 tablespoons beef bouillon powder', ' 4  garlic cloves', ' ½ cup vegetable oil', ' or as needed', '   salt to taste', ' 1 squeeze lemon juice'], './images/1087.png'), ('1088', 'Moist Date Nut Bread', '15 mins', '50 mins', '1 hrs 35 mins', 12, '1 9x5-inch loaf', '2 ½ cups chopped dates, ¼ cup butter, 1 cup boiling water, ½ cup packed brown sugar, 1 large egg, 1 ½ cups all-purpose flour, 1 teaspoon baking soda, 1 teaspoon baking powder, 1 teaspoon salt, 1 cup chopped walnuts', 'Preheat the oven to 350 degrees F (175 degrees F). Grease and flour a 9x5-inch loaf pan.\\nIn a medium bowl, combine dates and butter. Pour boiling wa ... (269 characters truncated) ... lnuts. Pour batter into the prepared pan.\\nBake in the preheated oven until a wooden pick inserted into the center comes out clean, about 50 minutes.', 4.5, 'https://www.allrecipes.com/recipe/51446/moist-date-nut-bread/', '/Breakfast and Brunch/Breakfast Bread Recipes/', 'Total Fat 10g 13%, Saturated Fat 3g 16%, Cholesterol 26mg 9%, Sodium 365mg 16%, Total Carbohydrate 47g 17%, Dietary Fiber 4g 14%, Total Sugars 30g, Protein 4g, Vitamin C 0mg 2%, Calcium 51mg 4%, Iron 2mg 8%, Potassium 312mg 7%', 'Prep Time: 15 mins, Cook Time: 50 mins, Additional Time: 30 mins, Total Time: 1 hrs 35 mins, Servings: 12, Yield: 1 9x5-inch loaf', 'https://www.allrecipes.com/thmb/bYsnompJZ6UAF9SXLA1ETj8_3SE=/1500x0/filters:no_upscale():max_bytes(150000):strip_icc()/1071229-5525faab6a924ac7a60743fcf8779b58.jpg', ['2 ½ cups chopped dates', ' ¼ cup butter', ' 1 cup boiling water', ' ½ cup packed brown sugar', ' 1 large egg', ' 1 ½ cups all-purpose flour', ' 1 teaspoon baking soda', ' 1 teaspoon baking powder', ' 1 teaspoon salt', ' 1 cup chopped walnuts'], './images/1088.png')]]\n(Background on this error at: https://sqlalche.me/e/20/rvf5)"
     ]
    }
   ],
   "source": [
    "from sqlalchemy import create_engine\n",
    "\n",
    "# Create an SQLite engine\n",
    "engine = create_engine('sqlite:///recipe_database.db')\n",
    "\n",
    "# Save the DataFrame to a SQL table named \"recipes\"\n",
    "recipe_df.to_sql('recipe_database', con=engine, if_exists='replace', index=False)\n"
   ]
  }
 ],
 "metadata": {
  "kernelspec": {
   "display_name": "Python 3",
   "language": "python",
   "name": "python3"
  },
  "language_info": {
   "codemirror_mode": {
    "name": "ipython",
    "version": 3
   },
   "file_extension": ".py",
   "mimetype": "text/x-python",
   "name": "python",
   "nbconvert_exporter": "python",
   "pygments_lexer": "ipython3",
   "version": "3.10.10"
  }
 },
 "nbformat": 4,
 "nbformat_minor": 2
}
